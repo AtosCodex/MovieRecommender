{
 "cells": [
  {
   "cell_type": "code",
   "execution_count": 30,
   "metadata": {},
   "outputs": [],
   "source": [
    "import pandas as pd"
   ]
  },
  {
   "cell_type": "markdown",
   "metadata": {},
   "source": [
    "## Fetch data from internet"
   ]
  },
  {
   "cell_type": "code",
   "execution_count": 31,
   "metadata": {},
   "outputs": [
    {
     "name": "stdout",
     "output_type": "stream",
     "text": [
      "wget: /usr/local/lib/libcrypto.so.1.0.0: no version information available (required by wget)\n",
      "wget: /usr/local/lib/libssl.so.1.0.0: no version information available (required by wget)\n",
      "wget: /usr/local/lib/libssl.so.1.0.0: no version information available (required by wget)\n",
      "--2018-11-12 16:29:46--  http://files.grouplens.org/datasets/movielens/ml-20m.zip\n",
      "Resolving files.grouplens.org (files.grouplens.org)... 128.101.34.235\n",
      "Connecting to files.grouplens.org (files.grouplens.org)|128.101.34.235|:80... connected.\n",
      "HTTP request sent, awaiting response... 200 OK\n",
      "Length: 198702078 (189M) [application/zip]\n",
      "Saving to: ‘./data/ml-20m.zip’\n",
      "\n",
      "./data/ml-20m.zip   100%[===================>] 189.50M  28.2MB/s    in 7.4s    \n",
      "\n",
      "2018-11-12 16:29:55 (25.6 MB/s) - ‘./data/ml-20m.zip’ saved [198702078/198702078]\n",
      "\n",
      "Archive:  ./data/ml-20m.zip\n",
      "   creating: ./data/ml-20m/\n",
      "  inflating: ./data/ml-20m/genome-scores.csv  \n",
      "  inflating: ./data/ml-20m/genome-tags.csv  \n",
      "  inflating: ./data/ml-20m/links.csv  \n",
      "  inflating: ./data/ml-20m/movies.csv  \n",
      "  inflating: ./data/ml-20m/ratings.csv  \n",
      "  inflating: ./data/ml-20m/README.txt  \n",
      "  inflating: ./data/ml-20m/tags.csv  \n"
     ]
    }
   ],
   "source": [
    "!rm -rf ./data\n",
    "!mkdir data\n",
    "!wget http://files.grouplens.org/datasets/movielens/ml-20m.zip -O ./data/ml-20m.zip\n",
    "!unzip ./data/ml-20m.zip -d ./data"
   ]
  },
  {
   "cell_type": "markdown",
   "metadata": {},
   "source": [
    "## Load data into Pandas dataframe"
   ]
  },
  {
   "cell_type": "code",
   "execution_count": 44,
   "metadata": {},
   "outputs": [],
   "source": [
    "df_movies = pd.read_csv('./data/ml-20m/movies.csv')\n",
    "df_rating = pd.read_csv('./data/ml-20m/ratings.csv')\n",
    "df_tags = pd.read_csv('./data/ml-20m/tags.csv')\n",
    "df_links = pd.read_csv('./data/ml-20m/links.csv')\n",
    "df_genome_scores = pd.read_csv('./data/ml-20m/genome-scores.csv')\n",
    "df_genome_tags = pd.read_csv('./data/ml-20m/genome-tags.csv')"
   ]
  },
  {
   "cell_type": "markdown",
   "metadata": {},
   "source": [
    "## Some preprocessing steps from here"
   ]
  },
  {
   "cell_type": "code",
   "execution_count": 45,
   "metadata": {},
   "outputs": [],
   "source": [
    "df_rating.timestamp = pd.to_datetime(df_rating.timestamp,unit='s')"
   ]
  },
  {
   "cell_type": "code",
   "execution_count": 46,
   "metadata": {},
   "outputs": [],
   "source": [
    "df_tags.timestamp = pd.to_datetime(df_tags.timestamp,unit='s')"
   ]
  },
  {
   "cell_type": "code",
   "execution_count": 47,
   "metadata": {},
   "outputs": [
    {
     "name": "stderr",
     "output_type": "stream",
     "text": [
      "/usr/local/envs/py2env/lib/python2.7/site-packages/ipykernel/__main__.py:1: FutureWarning: currently extract(expand=None) means expand=False (return Index/Series/DataFrame) but in a future version of pandas this will be changed to expand=True (return DataFrame)\n",
      "  if __name__ == '__main__':\n"
     ]
    }
   ],
   "source": [
    "df_movies['movie_year'] = df_movies.title.str.extract('\\(([0-9][0-9][0-9][0-9])\\)')\n",
    "df_movies = pd.concat([df_movies, df_movies.genres.str.get_dummies(sep='|')  ], axis=1)"
   ]
  },
  {
   "cell_type": "markdown",
   "metadata": {},
   "source": [
    "## Save to pickle file"
   ]
  },
  {
   "cell_type": "code",
   "execution_count": 48,
   "metadata": {},
   "outputs": [],
   "source": [
    "df_movies.to_pickle(\"./data/movies.pkl\")"
   ]
  },
  {
   "cell_type": "code",
   "execution_count": 49,
   "metadata": {},
   "outputs": [],
   "source": [
    "df_rating.to_pickle(\"./data/rating.pkl\")"
   ]
  },
  {
   "cell_type": "code",
   "execution_count": 50,
   "metadata": {},
   "outputs": [],
   "source": [
    "df_tags.to_pickle(\"./data/tags.pkl\")"
   ]
  },
  {
   "cell_type": "code",
   "execution_count": 51,
   "metadata": {},
   "outputs": [],
   "source": [
    "df_links.to_pickle(\"./data/links.pkl\")"
   ]
  },
  {
   "cell_type": "code",
   "execution_count": 52,
   "metadata": {},
   "outputs": [],
   "source": [
    "df_genome_scores.to_pickle(\"./data/genome-scores.pkl\")"
   ]
  },
  {
   "cell_type": "code",
   "execution_count": 53,
   "metadata": {},
   "outputs": [],
   "source": [
    "df_genome_tags.to_pickle(\"./data/genome-tags.pkl\")"
   ]
  }
 ],
 "metadata": {
  "kernelspec": {
   "display_name": "Python 2",
   "language": "python",
   "name": "python2"
  },
  "language_info": {
   "codemirror_mode": {
    "name": "ipython",
    "version": 2
   },
   "file_extension": ".py",
   "mimetype": "text/x-python",
   "name": "python",
   "nbconvert_exporter": "python",
   "pygments_lexer": "ipython2",
   "version": "2.7.15"
  }
 },
 "nbformat": 4,
 "nbformat_minor": 2
}
