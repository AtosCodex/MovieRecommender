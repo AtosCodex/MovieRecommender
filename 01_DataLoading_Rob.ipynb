{
 "cells": [
  {
   "cell_type": "code",
   "execution_count": 1,
   "metadata": {},
   "outputs": [],
   "source": [
    "import pandas as pd\n",
    "import numpy as np"
   ]
  },
  {
   "cell_type": "markdown",
   "metadata": {},
   "source": [
    "## Fetch data from internet"
   ]
  },
  {
   "cell_type": "code",
   "execution_count": 2,
   "metadata": {},
   "outputs": [],
   "source": [
    "!rm -rf ./data\n",
    "!mkdir data"
   ]
  },
  {
   "cell_type": "code",
   "execution_count": 3,
   "metadata": {},
   "outputs": [
    {
     "name": "stdout",
     "output_type": "stream",
     "text": [
      "Getting movielens data...\n",
      "\n",
      "--2018-11-13 17:01:36--  http://files.grouplens.org/datasets/movielens/ml-20m.zip\n",
      "Resolving files.grouplens.org (files.grouplens.org)... 128.101.34.235\n",
      "Connecting to files.grouplens.org (files.grouplens.org)|128.101.34.235|:80... connected.\n",
      "HTTP request sent, awaiting response... 200 OK\n",
      "Length: 198702078 (189M) [application/zip]\n",
      "Saving to: ‘./data/ml-20m.zip’\n",
      "\n",
      "./data/ml-20m.zip   100%[===================>] 189.50M  28.0MB/s    in 7.5s    \n",
      "\n",
      "2018-11-13 17:01:44 (25.3 MB/s) - ‘./data/ml-20m.zip’ saved [198702078/198702078]\n",
      "\n"
     ]
    }
   ],
   "source": [
    "print('Getting movielens data...\\n')\n",
    "!wget http://files.grouplens.org/datasets/movielens/ml-20m.zip -O ./data/ml-20m.zip"
   ]
  },
  {
   "cell_type": "code",
   "execution_count": 4,
   "metadata": {},
   "outputs": [
    {
     "name": "stdout",
     "output_type": "stream",
     "text": [
      "Getting imdb title data...\n",
      "\n",
      "--2018-11-13 17:01:45--  https://datasets.imdbws.com/title.akas.tsv.gz\n",
      "Resolving datasets.imdbws.com (datasets.imdbws.com)... 54.230.8.90, 54.230.8.181, 54.230.8.166, ...\n",
      "Connecting to datasets.imdbws.com (datasets.imdbws.com)|54.230.8.90|:443... connected.\n",
      "HTTP request sent, awaiting response... 200 OK\n",
      "Length: 54267596 (52M) [text/tab-separated-values]\n",
      "Saving to: ‘./data/title.akas.tsv.gz’\n",
      "\n",
      "./data/title.akas.t 100%[===================>]  51.75M  23.5MB/s    in 2.2s    \n",
      "\n",
      "2018-11-13 17:01:47 (23.5 MB/s) - ‘./data/title.akas.tsv.gz’ saved [54267596/54267596]\n",
      "\n"
     ]
    }
   ],
   "source": [
    "print('Getting imdb title data...\\n')\n",
    "!wget https://datasets.imdbws.com/title.akas.tsv.gz -O ./data/title.akas.tsv.gz"
   ]
  },
  {
   "cell_type": "code",
   "execution_count": 5,
   "metadata": {},
   "outputs": [
    {
     "name": "stdout",
     "output_type": "stream",
     "text": [
      "Getting imdb ratings data...\n",
      "\n",
      "--2018-11-13 17:01:48--  https://datasets.imdbws.com/title.ratings.tsv.gz\n",
      "Resolving datasets.imdbws.com (datasets.imdbws.com)... 54.230.8.90, 54.230.8.181, 54.230.8.166, ...\n",
      "Connecting to datasets.imdbws.com (datasets.imdbws.com)|54.230.8.90|:443... connected.\n",
      "HTTP request sent, awaiting response... 200 OK\n",
      "Length: 4365124 (4.2M) [binary/octet-stream]\n",
      "Saving to: ‘./data/title.ratings.tsv.gz’\n",
      "\n",
      "./data/title.rating 100%[===================>]   4.16M  19.3MB/s    in 0.2s    \n",
      "\n",
      "2018-11-13 17:01:48 (19.3 MB/s) - ‘./data/title.ratings.tsv.gz’ saved [4365124/4365124]\n",
      "\n"
     ]
    }
   ],
   "source": [
    "print('Getting imdb ratings data...\\n')\n",
    "!wget https://datasets.imdbws.com/title.ratings.tsv.gz -O ./data/title.ratings.tsv.gz"
   ]
  },
  {
   "cell_type": "code",
   "execution_count": 6,
   "metadata": {},
   "outputs": [
    {
     "name": "stdout",
     "output_type": "stream",
     "text": [
      "Getting imdb title data...\n",
      "\n",
      "--2018-11-13 17:01:50--  https://datasets.imdbws.com/title.basics.tsv.gz\n",
      "Resolving datasets.imdbws.com (datasets.imdbws.com)... 54.230.8.90, 54.230.8.181, 54.230.8.166, ...\n",
      "Connecting to datasets.imdbws.com (datasets.imdbws.com)|54.230.8.90|:443... connected.\n",
      "HTTP request sent, awaiting response... 200 OK\n",
      "Length: 97196768 (93M) [text/tab-separated-values]\n",
      "Saving to: ‘./data/title.basics.tsv.gz’\n",
      "\n",
      "./data/title.basics 100%[===================>]  92.69M  20.0MB/s    in 4.5s    \n",
      "\n",
      "2018-11-13 17:01:54 (20.4 MB/s) - ‘./data/title.basics.tsv.gz’ saved [97196768/97196768]\n",
      "\n",
      "Data downloads complete.\n",
      "\n"
     ]
    }
   ],
   "source": [
    "print('Getting imdb title data...\\n')\n",
    "!wget https://datasets.imdbws.com/title.basics.tsv.gz -O ./data/title.basics.tsv.gz\n",
    "print('Data downloads complete.\\n')"
   ]
  },
  {
   "cell_type": "code",
   "execution_count": 10,
   "metadata": {},
   "outputs": [
    {
     "name": "stdout",
     "output_type": "stream",
     "text": [
      "Unzipping...\n",
      "Archive:  ./data/ml-20m.zip\n",
      "   creating: ./data/ml-20m/\n",
      "  inflating: ./data/ml-20m/genome-scores.csv  \n",
      "  inflating: ./data/ml-20m/genome-tags.csv  \n",
      "  inflating: ./data/ml-20m/links.csv  \n",
      "  inflating: ./data/ml-20m/movies.csv  \n",
      "  inflating: ./data/ml-20m/ratings.csv  \n",
      "  inflating: ./data/ml-20m/README.txt  \n",
      "  inflating: ./data/ml-20m/tags.csv  \n",
      "Decompression complete\n"
     ]
    }
   ],
   "source": [
    "print('Unzipping...')\n",
    "!unzip -o ./data/ml-20m.zip -d ./data\n",
    "#!mkdir ./data/title.akas/\n",
    "#!gunzip -c ./data/title.akas.tsv.gz > ./data/title.akas/title.akas.tsv\n",
    "!mkdir ./data/title.ratings/\n",
    "!gunzip -c ./data/title.ratings.tsv.gz > ./data/title.ratings/title.ratings.tsv\n",
    "!mkdir ./data/title.basics/\n",
    "!gunzip -c ./data/title.basics.tsv.gz > ./data/title.basics/title.basics.tsv\n",
    "print('Decompression complete')"
   ]
  },
  {
   "cell_type": "markdown",
   "metadata": {},
   "source": [
    "## Load data into Pandas dataframe"
   ]
  },
  {
   "cell_type": "code",
   "execution_count": 96,
   "metadata": {},
   "outputs": [],
   "source": [
    "df_movies = pd.read_csv('./data/ml-20m/movies.csv')\n",
    "df_rating = pd.read_csv('./data/ml-20m/ratings.csv')\n",
    "df_tags = pd.read_csv('./data/ml-20m/tags.csv')\n",
    "df_links = pd.read_csv('./data/ml-20m/links.csv')\n",
    "df_genome_scores = pd.read_csv('./data/ml-20m/genome-scores.csv')\n",
    "df_genome_tags = pd.read_csv('./data/ml-20m/genome-tags.csv')"
   ]
  },
  {
   "cell_type": "code",
   "execution_count": 108,
   "metadata": {},
   "outputs": [],
   "source": [
    "imdb_title = pd.read_table('./data/title.akas/title.akas.tsv', dtype={'titleId':str,\n",
    "                                                                      'ordering':int,\n",
    "                                                                      'title':str,\n",
    "                                                                      'region':str,\n",
    "                                                                      'language':str,\n",
    "                                                                      'types':str,\n",
    "                                                                      'attributes':str,\n",
    "                                                                      'isOriginalTitle':str}, na_values = '\\\\N')\n",
    "imdb_ratings = pd.read_table('./data/title.ratings/title.ratings.tsv', na_values = '\\\\N')\n",
    "imdb_title_basics = pd.read_table('./data/title.basics/title.basics.tsv', na_values = '\\\\N', dtype={'tconst':str, \n",
    "                                                                                                    'titleType':str, \n",
    "                                                                                                    'primaryTitle':str, \n",
    "                                                                                                    'originalTitle':str, \n",
    "                                                                                                    'isAdult':str, \n",
    "                                                                                                    'startYear':str, \n",
    "                                                                                                    'endYear':str, \n",
    "                                                                                                    'runtimeMinutes':str, \n",
    "                                                                                                    'genres':str})"
   ]
  },
  {
   "cell_type": "markdown",
   "metadata": {},
   "source": [
    "## Some preprocessing steps from here"
   ]
  },
  {
   "cell_type": "code",
   "execution_count": 109,
   "metadata": {},
   "outputs": [],
   "source": [
    "df_rating.timestamp = pd.to_datetime(df_rating.timestamp,unit='s')"
   ]
  },
  {
   "cell_type": "code",
   "execution_count": 110,
   "metadata": {},
   "outputs": [],
   "source": [
    "df_tags.timestamp = pd.to_datetime(df_tags.timestamp,unit='s')"
   ]
  },
  {
   "cell_type": "code",
   "execution_count": 111,
   "metadata": {},
   "outputs": [
    {
     "name": "stderr",
     "output_type": "stream",
     "text": [
      "/usr/local/envs/py3env/lib/python3.5/site-packages/ipykernel/__main__.py:1: FutureWarning: currently extract(expand=None) means expand=False (return Index/Series/DataFrame) but in a future version of pandas this will be changed to expand=True (return DataFrame)\n",
      "  if __name__ == '__main__':\n"
     ]
    }
   ],
   "source": [
    "df_movies['movie_year'] = df_movies.title.str.extract('\\(([0-9][0-9][0-9][0-9])\\)')\n",
    "df_movies = pd.concat([df_movies, df_movies.genres.str.get_dummies(sep='|')  ], axis=1)"
   ]
  },
  {
   "cell_type": "markdown",
   "metadata": {},
   "source": [
    "#### Format imdb_ratings for joining"
   ]
  },
  {
   "cell_type": "code",
   "execution_count": 112,
   "metadata": {},
   "outputs": [
    {
     "data": {
      "text/html": [
       "<div>\n",
       "<style scoped>\n",
       "    .dataframe tbody tr th:only-of-type {\n",
       "        vertical-align: middle;\n",
       "    }\n",
       "\n",
       "    .dataframe tbody tr th {\n",
       "        vertical-align: top;\n",
       "    }\n",
       "\n",
       "    .dataframe thead th {\n",
       "        text-align: right;\n",
       "    }\n",
       "</style>\n",
       "<table border=\"1\" class=\"dataframe\">\n",
       "  <thead>\n",
       "    <tr style=\"text-align: right;\">\n",
       "      <th></th>\n",
       "      <th>averageRating</th>\n",
       "      <th>numVotes</th>\n",
       "      <th>imdbId</th>\n",
       "    </tr>\n",
       "  </thead>\n",
       "  <tbody>\n",
       "    <tr>\n",
       "      <th>0</th>\n",
       "      <td>5.8</td>\n",
       "      <td>1435</td>\n",
       "      <td>1</td>\n",
       "    </tr>\n",
       "    <tr>\n",
       "      <th>1</th>\n",
       "      <td>6.3</td>\n",
       "      <td>170</td>\n",
       "      <td>2</td>\n",
       "    </tr>\n",
       "    <tr>\n",
       "      <th>2</th>\n",
       "      <td>6.6</td>\n",
       "      <td>1030</td>\n",
       "      <td>3</td>\n",
       "    </tr>\n",
       "    <tr>\n",
       "      <th>3</th>\n",
       "      <td>6.4</td>\n",
       "      <td>101</td>\n",
       "      <td>4</td>\n",
       "    </tr>\n",
       "    <tr>\n",
       "      <th>4</th>\n",
       "      <td>6.2</td>\n",
       "      <td>1728</td>\n",
       "      <td>5</td>\n",
       "    </tr>\n",
       "  </tbody>\n",
       "</table>\n",
       "</div>"
      ],
      "text/plain": [
       "   averageRating  numVotes  imdbId\n",
       "0            5.8      1435       1\n",
       "1            6.3       170       2\n",
       "2            6.6      1030       3\n",
       "3            6.4       101       4\n",
       "4            6.2      1728       5"
      ]
     },
     "metadata": {},
     "output_type": "display_data"
    }
   ],
   "source": [
    "imdb_ratings['imdbId'] = pd.to_numeric(imdb_ratings.tconst.str.replace('tt(0)*', ''))\n",
    "imdb_ratings = imdb_ratings.drop(['tconst'], axis=1)\n",
    "\n",
    "display(imdb_ratings.head())"
   ]
  },
  {
   "cell_type": "markdown",
   "metadata": {},
   "source": [
    "#### Format imdb_title_basics for joining"
   ]
  },
  {
   "cell_type": "code",
   "execution_count": 113,
   "metadata": {},
   "outputs": [
    {
     "data": {
      "text/html": [
       "<div>\n",
       "<style scoped>\n",
       "    .dataframe tbody tr th:only-of-type {\n",
       "        vertical-align: middle;\n",
       "    }\n",
       "\n",
       "    .dataframe tbody tr th {\n",
       "        vertical-align: top;\n",
       "    }\n",
       "\n",
       "    .dataframe thead th {\n",
       "        text-align: right;\n",
       "    }\n",
       "</style>\n",
       "<table border=\"1\" class=\"dataframe\">\n",
       "  <thead>\n",
       "    <tr style=\"text-align: right;\">\n",
       "      <th></th>\n",
       "      <th>titleType</th>\n",
       "      <th>primaryTitle</th>\n",
       "      <th>originalTitle</th>\n",
       "      <th>isAdult</th>\n",
       "      <th>startYear</th>\n",
       "      <th>runtimeMinutes</th>\n",
       "      <th>genres</th>\n",
       "      <th>imdbId</th>\n",
       "      <th>genre_list</th>\n",
       "    </tr>\n",
       "  </thead>\n",
       "  <tbody>\n",
       "    <tr>\n",
       "      <th>0</th>\n",
       "      <td>short</td>\n",
       "      <td>Carmencita</td>\n",
       "      <td>Carmencita</td>\n",
       "      <td>0</td>\n",
       "      <td>1894</td>\n",
       "      <td>1</td>\n",
       "      <td>Documentary,Short</td>\n",
       "      <td>1</td>\n",
       "      <td>[Documentary, Short]</td>\n",
       "    </tr>\n",
       "    <tr>\n",
       "      <th>1</th>\n",
       "      <td>short</td>\n",
       "      <td>Le clown et ses chiens</td>\n",
       "      <td>Le clown et ses chiens</td>\n",
       "      <td>0</td>\n",
       "      <td>1892</td>\n",
       "      <td>5</td>\n",
       "      <td>Animation,Short</td>\n",
       "      <td>2</td>\n",
       "      <td>[Animation, Short]</td>\n",
       "    </tr>\n",
       "    <tr>\n",
       "      <th>2</th>\n",
       "      <td>short</td>\n",
       "      <td>Pauvre Pierrot</td>\n",
       "      <td>Pauvre Pierrot</td>\n",
       "      <td>0</td>\n",
       "      <td>1892</td>\n",
       "      <td>4</td>\n",
       "      <td>Animation,Comedy,Romance</td>\n",
       "      <td>3</td>\n",
       "      <td>[Animation, Comedy, Romance]</td>\n",
       "    </tr>\n",
       "    <tr>\n",
       "      <th>3</th>\n",
       "      <td>short</td>\n",
       "      <td>Un bon bock</td>\n",
       "      <td>Un bon bock</td>\n",
       "      <td>0</td>\n",
       "      <td>1892</td>\n",
       "      <td>NaN</td>\n",
       "      <td>Animation,Short</td>\n",
       "      <td>4</td>\n",
       "      <td>[Animation, Short]</td>\n",
       "    </tr>\n",
       "    <tr>\n",
       "      <th>4</th>\n",
       "      <td>short</td>\n",
       "      <td>Blacksmith Scene</td>\n",
       "      <td>Blacksmith Scene</td>\n",
       "      <td>0</td>\n",
       "      <td>1893</td>\n",
       "      <td>1</td>\n",
       "      <td>Comedy,Short</td>\n",
       "      <td>5</td>\n",
       "      <td>[Comedy, Short]</td>\n",
       "    </tr>\n",
       "  </tbody>\n",
       "</table>\n",
       "</div>"
      ],
      "text/plain": [
       "  titleType            primaryTitle           originalTitle isAdult startYear  \\\n",
       "0     short              Carmencita              Carmencita       0      1894   \n",
       "1     short  Le clown et ses chiens  Le clown et ses chiens       0      1892   \n",
       "2     short          Pauvre Pierrot          Pauvre Pierrot       0      1892   \n",
       "3     short             Un bon bock             Un bon bock       0      1892   \n",
       "4     short        Blacksmith Scene        Blacksmith Scene       0      1893   \n",
       "\n",
       "  runtimeMinutes                    genres  imdbId  \\\n",
       "0              1         Documentary,Short       1   \n",
       "1              5           Animation,Short       2   \n",
       "2              4  Animation,Comedy,Romance       3   \n",
       "3            NaN           Animation,Short       4   \n",
       "4              1              Comedy,Short       5   \n",
       "\n",
       "                     genre_list  \n",
       "0          [Documentary, Short]  \n",
       "1            [Animation, Short]  \n",
       "2  [Animation, Comedy, Romance]  \n",
       "3            [Animation, Short]  \n",
       "4               [Comedy, Short]  "
      ]
     },
     "metadata": {},
     "output_type": "display_data"
    }
   ],
   "source": [
    "imdb_title_basics['imdbId'] = pd.to_numeric(imdb_title_basics.tconst.str.replace('tt(0)*', ''))\n",
    "imdb_title_basics = imdb_title_basics.drop(['tconst','endYear'], axis=1)\n",
    "imdb_title_basics['genre_list'] = imdb_title_basics['genres'].str.split(',')\n",
    "display(imdb_title_basics.head())"
   ]
  },
  {
   "cell_type": "markdown",
   "metadata": {},
   "source": [
    "### Merge IMDB files\n",
    "#### imdb_title_basics with df_links"
   ]
  },
  {
   "cell_type": "code",
   "execution_count": 114,
   "metadata": {},
   "outputs": [],
   "source": [
    "film_database_data = pd.merge(df_links, imdb_title_basics, how='left', on=['imdbId'])"
   ]
  },
  {
   "cell_type": "code",
   "execution_count": 115,
   "metadata": {},
   "outputs": [
    {
     "name": "stdout",
     "output_type": "stream",
     "text": [
      "Merged dataframe shape: (27278, 11)\n",
      "Original links shape: (27278, 3)\n",
      "\n",
      "Merged dataframe:\n"
     ]
    },
    {
     "data": {
      "text/html": [
       "<div>\n",
       "<style scoped>\n",
       "    .dataframe tbody tr th:only-of-type {\n",
       "        vertical-align: middle;\n",
       "    }\n",
       "\n",
       "    .dataframe tbody tr th {\n",
       "        vertical-align: top;\n",
       "    }\n",
       "\n",
       "    .dataframe thead th {\n",
       "        text-align: right;\n",
       "    }\n",
       "</style>\n",
       "<table border=\"1\" class=\"dataframe\">\n",
       "  <thead>\n",
       "    <tr style=\"text-align: right;\">\n",
       "      <th></th>\n",
       "      <th>movieId</th>\n",
       "      <th>imdbId</th>\n",
       "      <th>tmdbId</th>\n",
       "      <th>titleType</th>\n",
       "      <th>primaryTitle</th>\n",
       "      <th>originalTitle</th>\n",
       "      <th>isAdult</th>\n",
       "      <th>startYear</th>\n",
       "      <th>runtimeMinutes</th>\n",
       "      <th>genres</th>\n",
       "      <th>genre_list</th>\n",
       "    </tr>\n",
       "  </thead>\n",
       "  <tbody>\n",
       "    <tr>\n",
       "      <th>0</th>\n",
       "      <td>1</td>\n",
       "      <td>114709</td>\n",
       "      <td>862.0</td>\n",
       "      <td>movie</td>\n",
       "      <td>Toy Story</td>\n",
       "      <td>Toy Story</td>\n",
       "      <td>0</td>\n",
       "      <td>1995</td>\n",
       "      <td>81</td>\n",
       "      <td>Adventure,Animation,Comedy</td>\n",
       "      <td>[Adventure, Animation, Comedy]</td>\n",
       "    </tr>\n",
       "    <tr>\n",
       "      <th>1</th>\n",
       "      <td>2</td>\n",
       "      <td>113497</td>\n",
       "      <td>8844.0</td>\n",
       "      <td>movie</td>\n",
       "      <td>Jumanji</td>\n",
       "      <td>Jumanji</td>\n",
       "      <td>0</td>\n",
       "      <td>1995</td>\n",
       "      <td>104</td>\n",
       "      <td>Adventure,Family,Fantasy</td>\n",
       "      <td>[Adventure, Family, Fantasy]</td>\n",
       "    </tr>\n",
       "    <tr>\n",
       "      <th>2</th>\n",
       "      <td>3</td>\n",
       "      <td>113228</td>\n",
       "      <td>15602.0</td>\n",
       "      <td>movie</td>\n",
       "      <td>Grumpier Old Men</td>\n",
       "      <td>Grumpier Old Men</td>\n",
       "      <td>0</td>\n",
       "      <td>1995</td>\n",
       "      <td>101</td>\n",
       "      <td>Comedy,Romance</td>\n",
       "      <td>[Comedy, Romance]</td>\n",
       "    </tr>\n",
       "    <tr>\n",
       "      <th>3</th>\n",
       "      <td>4</td>\n",
       "      <td>114885</td>\n",
       "      <td>31357.0</td>\n",
       "      <td>movie</td>\n",
       "      <td>Waiting to Exhale</td>\n",
       "      <td>Waiting to Exhale</td>\n",
       "      <td>0</td>\n",
       "      <td>1995</td>\n",
       "      <td>124</td>\n",
       "      <td>Comedy,Drama,Romance</td>\n",
       "      <td>[Comedy, Drama, Romance]</td>\n",
       "    </tr>\n",
       "    <tr>\n",
       "      <th>4</th>\n",
       "      <td>5</td>\n",
       "      <td>113041</td>\n",
       "      <td>11862.0</td>\n",
       "      <td>movie</td>\n",
       "      <td>Father of the Bride Part II</td>\n",
       "      <td>Father of the Bride Part II</td>\n",
       "      <td>0</td>\n",
       "      <td>1995</td>\n",
       "      <td>106</td>\n",
       "      <td>Comedy,Family,Romance</td>\n",
       "      <td>[Comedy, Family, Romance]</td>\n",
       "    </tr>\n",
       "  </tbody>\n",
       "</table>\n",
       "</div>"
      ],
      "text/plain": [
       "   movieId  imdbId   tmdbId titleType                 primaryTitle  \\\n",
       "0        1  114709    862.0     movie                    Toy Story   \n",
       "1        2  113497   8844.0     movie                      Jumanji   \n",
       "2        3  113228  15602.0     movie             Grumpier Old Men   \n",
       "3        4  114885  31357.0     movie            Waiting to Exhale   \n",
       "4        5  113041  11862.0     movie  Father of the Bride Part II   \n",
       "\n",
       "                 originalTitle isAdult startYear runtimeMinutes  \\\n",
       "0                    Toy Story       0      1995             81   \n",
       "1                      Jumanji       0      1995            104   \n",
       "2             Grumpier Old Men       0      1995            101   \n",
       "3            Waiting to Exhale       0      1995            124   \n",
       "4  Father of the Bride Part II       0      1995            106   \n",
       "\n",
       "                       genres                      genre_list  \n",
       "0  Adventure,Animation,Comedy  [Adventure, Animation, Comedy]  \n",
       "1    Adventure,Family,Fantasy    [Adventure, Family, Fantasy]  \n",
       "2              Comedy,Romance               [Comedy, Romance]  \n",
       "3        Comedy,Drama,Romance        [Comedy, Drama, Romance]  \n",
       "4       Comedy,Family,Romance       [Comedy, Family, Romance]  "
      ]
     },
     "execution_count": 115,
     "metadata": {},
     "output_type": "execute_result"
    }
   ],
   "source": [
    "print(\"Merged dataframe shape: {}\".format(film_database_data.shape))\n",
    "print(\"Original links shape: {}\".format(df_links.shape))\n",
    "\n",
    "print(\"\\nMerged dataframe:\")\n",
    "film_database_data.head()"
   ]
  },
  {
   "cell_type": "markdown",
   "metadata": {},
   "source": [
    "#### film_database_data with imdb_ratings"
   ]
  },
  {
   "cell_type": "code",
   "execution_count": 125,
   "metadata": {},
   "outputs": [],
   "source": [
    "df_imdb_film_data_with_ratings = pd.merge(film_database_data, imdb_ratings, how='left', on=['imdbId'])"
   ]
  },
  {
   "cell_type": "code",
   "execution_count": 126,
   "metadata": {},
   "outputs": [
    {
     "data": {
      "text/html": [
       "<div>\n",
       "<style scoped>\n",
       "    .dataframe tbody tr th:only-of-type {\n",
       "        vertical-align: middle;\n",
       "    }\n",
       "\n",
       "    .dataframe tbody tr th {\n",
       "        vertical-align: top;\n",
       "    }\n",
       "\n",
       "    .dataframe thead th {\n",
       "        text-align: right;\n",
       "    }\n",
       "</style>\n",
       "<table border=\"1\" class=\"dataframe\">\n",
       "  <thead>\n",
       "    <tr style=\"text-align: right;\">\n",
       "      <th></th>\n",
       "      <th>movieId</th>\n",
       "      <th>imdbId</th>\n",
       "      <th>tmdbId</th>\n",
       "      <th>titleType</th>\n",
       "      <th>primaryTitle</th>\n",
       "      <th>originalTitle</th>\n",
       "      <th>isAdult</th>\n",
       "      <th>startYear</th>\n",
       "      <th>runtimeMinutes</th>\n",
       "      <th>genres</th>\n",
       "      <th>genre_list</th>\n",
       "      <th>averageRating</th>\n",
       "      <th>numVotes</th>\n",
       "    </tr>\n",
       "  </thead>\n",
       "  <tbody>\n",
       "    <tr>\n",
       "      <th>0</th>\n",
       "      <td>1</td>\n",
       "      <td>114709</td>\n",
       "      <td>862.0</td>\n",
       "      <td>movie</td>\n",
       "      <td>Toy Story</td>\n",
       "      <td>Toy Story</td>\n",
       "      <td>0</td>\n",
       "      <td>1995</td>\n",
       "      <td>81</td>\n",
       "      <td>Adventure,Animation,Comedy</td>\n",
       "      <td>[Adventure, Animation, Comedy]</td>\n",
       "      <td>8.3</td>\n",
       "      <td>757728.0</td>\n",
       "    </tr>\n",
       "    <tr>\n",
       "      <th>1</th>\n",
       "      <td>2</td>\n",
       "      <td>113497</td>\n",
       "      <td>8844.0</td>\n",
       "      <td>movie</td>\n",
       "      <td>Jumanji</td>\n",
       "      <td>Jumanji</td>\n",
       "      <td>0</td>\n",
       "      <td>1995</td>\n",
       "      <td>104</td>\n",
       "      <td>Adventure,Family,Fantasy</td>\n",
       "      <td>[Adventure, Family, Fantasy]</td>\n",
       "      <td>6.9</td>\n",
       "      <td>259244.0</td>\n",
       "    </tr>\n",
       "    <tr>\n",
       "      <th>2</th>\n",
       "      <td>3</td>\n",
       "      <td>113228</td>\n",
       "      <td>15602.0</td>\n",
       "      <td>movie</td>\n",
       "      <td>Grumpier Old Men</td>\n",
       "      <td>Grumpier Old Men</td>\n",
       "      <td>0</td>\n",
       "      <td>1995</td>\n",
       "      <td>101</td>\n",
       "      <td>Comedy,Romance</td>\n",
       "      <td>[Comedy, Romance]</td>\n",
       "      <td>6.6</td>\n",
       "      <td>21805.0</td>\n",
       "    </tr>\n",
       "    <tr>\n",
       "      <th>3</th>\n",
       "      <td>4</td>\n",
       "      <td>114885</td>\n",
       "      <td>31357.0</td>\n",
       "      <td>movie</td>\n",
       "      <td>Waiting to Exhale</td>\n",
       "      <td>Waiting to Exhale</td>\n",
       "      <td>0</td>\n",
       "      <td>1995</td>\n",
       "      <td>124</td>\n",
       "      <td>Comedy,Drama,Romance</td>\n",
       "      <td>[Comedy, Drama, Romance]</td>\n",
       "      <td>5.8</td>\n",
       "      <td>8431.0</td>\n",
       "    </tr>\n",
       "    <tr>\n",
       "      <th>4</th>\n",
       "      <td>5</td>\n",
       "      <td>113041</td>\n",
       "      <td>11862.0</td>\n",
       "      <td>movie</td>\n",
       "      <td>Father of the Bride Part II</td>\n",
       "      <td>Father of the Bride Part II</td>\n",
       "      <td>0</td>\n",
       "      <td>1995</td>\n",
       "      <td>106</td>\n",
       "      <td>Comedy,Family,Romance</td>\n",
       "      <td>[Comedy, Family, Romance]</td>\n",
       "      <td>6.0</td>\n",
       "      <td>30324.0</td>\n",
       "    </tr>\n",
       "  </tbody>\n",
       "</table>\n",
       "</div>"
      ],
      "text/plain": [
       "   movieId  imdbId   tmdbId titleType                 primaryTitle  \\\n",
       "0        1  114709    862.0     movie                    Toy Story   \n",
       "1        2  113497   8844.0     movie                      Jumanji   \n",
       "2        3  113228  15602.0     movie             Grumpier Old Men   \n",
       "3        4  114885  31357.0     movie            Waiting to Exhale   \n",
       "4        5  113041  11862.0     movie  Father of the Bride Part II   \n",
       "\n",
       "                 originalTitle isAdult startYear runtimeMinutes  \\\n",
       "0                    Toy Story       0      1995             81   \n",
       "1                      Jumanji       0      1995            104   \n",
       "2             Grumpier Old Men       0      1995            101   \n",
       "3            Waiting to Exhale       0      1995            124   \n",
       "4  Father of the Bride Part II       0      1995            106   \n",
       "\n",
       "                       genres                      genre_list  averageRating  \\\n",
       "0  Adventure,Animation,Comedy  [Adventure, Animation, Comedy]            8.3   \n",
       "1    Adventure,Family,Fantasy    [Adventure, Family, Fantasy]            6.9   \n",
       "2              Comedy,Romance               [Comedy, Romance]            6.6   \n",
       "3        Comedy,Drama,Romance        [Comedy, Drama, Romance]            5.8   \n",
       "4       Comedy,Family,Romance       [Comedy, Family, Romance]            6.0   \n",
       "\n",
       "   numVotes  \n",
       "0  757728.0  \n",
       "1  259244.0  \n",
       "2   21805.0  \n",
       "3    8431.0  \n",
       "4   30324.0  "
      ]
     },
     "execution_count": 126,
     "metadata": {},
     "output_type": "execute_result"
    }
   ],
   "source": [
    "df_imdb_film_data_with_ratings.head()"
   ]
  },
  {
   "cell_type": "markdown",
   "metadata": {},
   "source": [
    "## Save to pickle file"
   ]
  },
  {
   "cell_type": "code",
   "execution_count": 119,
   "metadata": {},
   "outputs": [],
   "source": [
    "df_movies.to_pickle(\"./data/movies.pkl\")"
   ]
  },
  {
   "cell_type": "code",
   "execution_count": 120,
   "metadata": {},
   "outputs": [],
   "source": [
    "df_rating.to_pickle(\"./data/rating.pkl\")"
   ]
  },
  {
   "cell_type": "code",
   "execution_count": 121,
   "metadata": {},
   "outputs": [],
   "source": [
    "df_tags.to_pickle(\"./data/tags.pkl\")"
   ]
  },
  {
   "cell_type": "code",
   "execution_count": 122,
   "metadata": {},
   "outputs": [],
   "source": [
    "df_links.to_pickle(\"./data/links.pkl\")"
   ]
  },
  {
   "cell_type": "code",
   "execution_count": 123,
   "metadata": {},
   "outputs": [],
   "source": [
    "df_genome_scores.to_pickle(\"./data/genome-scores.pkl\")"
   ]
  },
  {
   "cell_type": "code",
   "execution_count": 124,
   "metadata": {},
   "outputs": [],
   "source": [
    "df_genome_tags.to_pickle(\"./data/genome-tags.pkl\")"
   ]
  },
  {
   "cell_type": "code",
   "execution_count": 127,
   "metadata": {},
   "outputs": [],
   "source": [
    "df_imdb_film_data_with_ratings.to_pickle(\"./data/imdb-data.pkl\")"
   ]
  },
  {
   "cell_type": "code",
   "execution_count": null,
   "metadata": {},
   "outputs": [],
   "source": []
  }
 ],
 "metadata": {
  "kernelspec": {
   "display_name": "Python 3",
   "language": "python",
   "name": "python3"
  },
  "language_info": {
   "codemirror_mode": {
    "name": "ipython",
    "version": 3
   },
   "file_extension": ".py",
   "mimetype": "text/x-python",
   "name": "python",
   "nbconvert_exporter": "python",
   "pygments_lexer": "ipython3",
   "version": "3.5.5"
  }
 },
 "nbformat": 4,
 "nbformat_minor": 2
}
