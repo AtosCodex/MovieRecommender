{
 "cells": [
  {
   "cell_type": "code",
   "execution_count": 1,
   "metadata": {},
   "outputs": [],
   "source": [
    "# change these to try this notebook out\n",
    "BUCKET = 'marcel-movierecommender'\n",
    "PROJECT = 'wiklabs-gcp-911bcf9b2822f412'\n",
    "REGION = 'europe-west1'"
   ]
  },
  {
   "cell_type": "code",
   "execution_count": 2,
   "metadata": {},
   "outputs": [],
   "source": [
    "import os\n",
    "os.environ['BUCKET'] = BUCKET\n",
    "os.environ['PROJECT'] = PROJECT\n",
    "os.environ['REGION'] = REGION"
   ]
  },
  {
   "cell_type": "code",
   "execution_count": 3,
   "metadata": {},
   "outputs": [],
   "source": [
    "%%bash\n",
    "if ! gsutil ls | grep -q gs://${BUCKET}/; then\n",
    "  gsutil mb -l ${REGION} gs://${BUCKET}\n",
    "fi"
   ]
  },
  {
   "cell_type": "code",
   "execution_count": 10,
   "metadata": {},
   "outputs": [
    {
     "name": "stderr",
     "output_type": "stream",
     "text": [
      "Copying file://./movie_rec_output/model/col [Content-Type=application/octet-stream]...\n",
      "/ [0 files][    0.0 B/  3.3 MiB]                                                \r",
      "/ [1 files][  3.3 MiB/  3.3 MiB]                                                \r",
      "-\r",
      "Copying file://./movie_rec_output/model/col.npy [Content-Type=application/octet-stream]...\n",
      "- [1 files][  3.3 MiB/  3.8 MiB]                                                \r",
      "- [2 files][  3.8 MiB/  3.8 MiB]                                                \r",
      "Copying file://./movie_rec_output/model/item [Content-Type=application/octet-stream]...\n",
      "- [2 files][  3.8 MiB/480.6 MiB]                                                \r",
      "==> NOTE: You are uploading one or more large file(s), which would run\n",
      "significantly faster if you enable parallel composite uploads. This\n",
      "feature can be enabled by editing the\n",
      "\"parallel_composite_upload_threshold\" value in your .boto\n",
      "configuration file. However, note that if you do this large files will\n",
      "be uploaded as `composite objects\n",
      "<https://cloud.google.com/storage/docs/composite-objects>`_,which\n",
      "means that any user who downloads such objects will need to have a\n",
      "compiled crcmod installed (see \"gsutil help crcmod\"). This is because\n",
      "without a compiled crcmod, computing checksums on composite objects is\n",
      "so slow that gsutil disables downloads of composite objects.\n",
      "\n",
      "\\\r",
      "\\ [2 files][ 89.6 MiB/480.6 MiB]                                                \r",
      "|\r",
      "/\r",
      "/ [2 files][180.4 MiB/480.6 MiB]                                                \r",
      "-\r",
      "\\\r",
      "\\ [2 files][274.7 MiB/480.6 MiB]                                                \r",
      "|\r",
      "| [2 files][373.2 MiB/480.6 MiB]                                                \r",
      "/\r",
      "-\r",
      "- [2 files][476.3 MiB/480.6 MiB]                                                \r",
      "- [3 files][480.6 MiB/480.6 MiB]                                                \r",
      "\\\r",
      "Copying file://./movie_rec_output/model/item.npy [Content-Type=application/octet-stream]...\n",
      "\\ [3 files][480.6 MiB/536.3 MiB]                                                \r",
      "|\r",
      "| [3 files][526.0 MiB/536.3 MiB]                                                \r",
      "| [4 files][536.3 MiB/536.3 MiB]                                                \r",
      "/\r\n",
      "==> NOTE: You are performing a sequence of gsutil operations that may\n",
      "run significantly faster if you instead use gsutil -m -o ... Please\n",
      "see the -m section under \"gsutil help options\" for further information\n",
      "about when gsutil -m can be advantageous.\n",
      "\n",
      "Copying file://./movie_rec_output/model/row [Content-Type=application/octet-stream]...\n",
      "/ [4 files][536.3 MiB/553.0 MiB]                                                \r",
      "/ [5 files][553.0 MiB/553.0 MiB]                                                \r",
      "Copying file://./movie_rec_output/model/row.npy [Content-Type=application/octet-stream]...\n",
      "/ [5 files][553.0 MiB/555.7 MiB]                                                \r",
      "-\r",
      "- [6 files][555.7 MiB/555.7 MiB]                                                \r",
      "Copying file://./movie_rec_output/model/user [Content-Type=application/octet-stream]...\n",
      "- [6 files][555.7 MiB/  1.0 GiB]                                                \r",
      "\\\r",
      "|\r",
      "| [6 files][644.9 MiB/  1.0 GiB]                                                \r",
      "/\r",
      "/ [6 files][740.0 MiB/  1.0 GiB]   56.8 MiB/s                                   \r",
      "-\r",
      "\\\r",
      "\\ [6 files][841.3 MiB/  1.0 GiB]   68.0 MiB/s                                   \r",
      "|\r",
      "| [6 files][936.2 MiB/  1.0 GiB]   82.0 MiB/s                                   \r",
      "/\r",
      "-\r",
      "- [7 files][  1.0 GiB/  1.0 GiB]   94.0 MiB/s                                   \r",
      "Copying file://./movie_rec_output/model/user.npy [Content-Type=application/octet-stream]...\n",
      "- [7 files][  1.0 GiB/  1.1 GiB]   93.9 MiB/s                                   \r",
      "\\\r",
      "|\r",
      "| [8 files][  1.1 GiB/  1.1 GiB]   89.4 MiB/s                                   \r\n",
      "Operation completed over 8 objects/1.1 GiB.                                      \n"
     ]
    }
   ],
   "source": [
    "%%bash\n",
    "gsutil cp ./movie_rec_output/model/* gs://${BUCKET}"
   ]
  },
  {
   "cell_type": "code",
   "execution_count": 11,
   "metadata": {},
   "outputs": [
    {
     "name": "stderr",
     "output_type": "stream",
     "text": [
      "Copying file://../data/ml-20m/movies.csv [Content-Type=text/csv]...\n",
      "/ [0 files][    0.0 B/  1.3 MiB]                                                \r",
      "/ [1 files][  1.3 MiB/  1.3 MiB]                                                \r\n",
      "Operation completed over 1 objects/1.3 MiB.                                      \n"
     ]
    }
   ],
   "source": [
    "%%bash\n",
    "gsutil cp ../data/ml-20m/movies.csv gs://${BUCKET}"
   ]
  },
  {
   "cell_type": "code",
   "execution_count": null,
   "metadata": {},
   "outputs": [],
   "source": []
  }
 ],
 "metadata": {
  "kernelspec": {
   "display_name": "Python 2",
   "language": "python",
   "name": "python2"
  },
  "language_info": {
   "codemirror_mode": {
    "name": "ipython",
    "version": 2
   },
   "file_extension": ".py",
   "mimetype": "text/x-python",
   "name": "python",
   "nbconvert_exporter": "python",
   "pygments_lexer": "ipython2",
   "version": "2.7.15"
  }
 },
 "nbformat": 4,
 "nbformat_minor": 2
}
