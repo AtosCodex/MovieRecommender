{
 "cells": [
  {
   "cell_type": "markdown",
   "metadata": {},
   "source": [
    "## Wals MatrixFactorization for embedding"
   ]
  },
  {
   "cell_type": "code",
   "execution_count": 3,
   "metadata": {},
   "outputs": [
    {
     "name": "stderr",
     "output_type": "stream",
     "text": [
      "/usr/local/envs/py3env/lib/python3.5/site-packages/h5py/__init__.py:36: FutureWarning: Conversion of the second argument of issubdtype from `float` to `np.floating` is deprecated. In future, it will be treated as `np.float64 == np.dtype(float).type`.\n",
      "  from ._conv import register_converters as _register_converters\n"
     ]
    },
    {
     "name": "stdout",
     "output_type": "stream",
     "text": [
      "1.8.0\n"
     ]
    }
   ],
   "source": [
    "import pandas as pd\n",
    "import tensorflow as tf\n",
    "\n",
    "from tensorflow.python.lib.io import file_io\n",
    "from tensorflow.contrib.factorization import WALSMatrixFactorization\n",
    "\n",
    "import numpy as np\n",
    "import shutil\n",
    "from sklearn.model_selection import train_test_split\n",
    "from scipy.sparse import coo_matrix\n",
    "from google.datalab.ml import TensorBoard\n",
    "print(tf.__version__)\n",
    "\n",
    "tf.logging.set_verbosity(tf.logging.INFO)"
   ]
  },
  {
   "cell_type": "markdown",
   "metadata": {},
   "source": [
    "### Setting variables"
   ]
  },
  {
   "cell_type": "code",
   "execution_count": 4,
   "metadata": {},
   "outputs": [],
   "source": [
    "TEST_SET_RATIO = 0.1\n",
    "OUTDIR = 'wals_experiment'\n",
    "shutil.rmtree(OUTDIR, ignore_errors = True) # start fresh each time"
   ]
  },
  {
   "cell_type": "code",
   "execution_count": 5,
   "metadata": {},
   "outputs": [],
   "source": [
    "DEFAULT_PARAMS = {\n",
    "    'weights': True,\n",
    "    'latent_factors': 5,\n",
    "    'num_iters': 20,\n",
    "    'regularization': 0.07,\n",
    "    'unobs_weight': 0.01,\n",
    "    'wt_type': 0,\n",
    "    'feature_wt_factor': 130.0,\n",
    "    'feature_wt_exp': 0.08,\n",
    "    'delimiter': '\\t'\n",
    "}\n",
    "\n",
    "OPTIMIZED_PARAMS = {\n",
    "    'latent_factors': 34,\n",
    "    'regularization': 9.83,\n",
    "    'unobs_weight': 0.001,\n",
    "    'feature_wt_factor': 189.8,\n",
    "}\n",
    "\n",
    "for key in OPTIMIZED_PARAMS:\n",
    "  DEFAULT_PARAMS[key] = OPTIMIZED_PARAMS[key]"
   ]
  },
  {
   "cell_type": "markdown",
   "metadata": {},
   "source": [
    "### Reading data with Pandas"
   ]
  },
  {
   "cell_type": "code",
   "execution_count": 6,
   "metadata": {},
   "outputs": [],
   "source": [
    "df_movies = pd.read_pickle(\"./data/movies.pkl\")\n",
    "df_rating = pd.read_pickle(\"./data/rating.pkl\")\n",
    "df_tags = pd.read_pickle(\"./data/tags.pkl\")\n",
    "df_links = pd.read_pickle(\"./data/links.pkl\")\n",
    "df_genome_scores = pd.read_pickle(\"./data/genome-scores.pkl\")\n",
    "df_genome_tags = pd.read_pickle(\"./data/genome-tags.pkl\")"
   ]
  },
  {
   "cell_type": "code",
   "execution_count": 7,
   "metadata": {},
   "outputs": [
    {
     "data": {
      "text/html": [
       "<div>\n",
       "<style scoped>\n",
       "    .dataframe tbody tr th:only-of-type {\n",
       "        vertical-align: middle;\n",
       "    }\n",
       "\n",
       "    .dataframe tbody tr th {\n",
       "        vertical-align: top;\n",
       "    }\n",
       "\n",
       "    .dataframe thead th {\n",
       "        text-align: right;\n",
       "    }\n",
       "</style>\n",
       "<table border=\"1\" class=\"dataframe\">\n",
       "  <thead>\n",
       "    <tr style=\"text-align: right;\">\n",
       "      <th></th>\n",
       "      <th>userId</th>\n",
       "      <th>movieId</th>\n",
       "      <th>rating</th>\n",
       "      <th>timestamp</th>\n",
       "    </tr>\n",
       "  </thead>\n",
       "  <tbody>\n",
       "    <tr>\n",
       "      <th>count</th>\n",
       "      <td>2.000026e+07</td>\n",
       "      <td>2.000026e+07</td>\n",
       "      <td>2.000026e+07</td>\n",
       "      <td>20000263</td>\n",
       "    </tr>\n",
       "    <tr>\n",
       "      <th>unique</th>\n",
       "      <td>NaN</td>\n",
       "      <td>NaN</td>\n",
       "      <td>NaN</td>\n",
       "      <td>15351121</td>\n",
       "    </tr>\n",
       "    <tr>\n",
       "      <th>top</th>\n",
       "      <td>NaN</td>\n",
       "      <td>NaN</td>\n",
       "      <td>NaN</td>\n",
       "      <td>1996-03-01 00:00:00</td>\n",
       "    </tr>\n",
       "    <tr>\n",
       "      <th>freq</th>\n",
       "      <td>NaN</td>\n",
       "      <td>NaN</td>\n",
       "      <td>NaN</td>\n",
       "      <td>643</td>\n",
       "    </tr>\n",
       "    <tr>\n",
       "      <th>first</th>\n",
       "      <td>NaN</td>\n",
       "      <td>NaN</td>\n",
       "      <td>NaN</td>\n",
       "      <td>1995-01-09 11:46:44</td>\n",
       "    </tr>\n",
       "    <tr>\n",
       "      <th>last</th>\n",
       "      <td>NaN</td>\n",
       "      <td>NaN</td>\n",
       "      <td>NaN</td>\n",
       "      <td>2015-03-31 06:40:02</td>\n",
       "    </tr>\n",
       "    <tr>\n",
       "      <th>mean</th>\n",
       "      <td>6.904587e+04</td>\n",
       "      <td>9.041567e+03</td>\n",
       "      <td>3.525529e+00</td>\n",
       "      <td>NaN</td>\n",
       "    </tr>\n",
       "    <tr>\n",
       "      <th>std</th>\n",
       "      <td>4.003863e+04</td>\n",
       "      <td>1.978948e+04</td>\n",
       "      <td>1.051989e+00</td>\n",
       "      <td>NaN</td>\n",
       "    </tr>\n",
       "    <tr>\n",
       "      <th>min</th>\n",
       "      <td>1.000000e+00</td>\n",
       "      <td>1.000000e+00</td>\n",
       "      <td>5.000000e-01</td>\n",
       "      <td>NaN</td>\n",
       "    </tr>\n",
       "    <tr>\n",
       "      <th>25%</th>\n",
       "      <td>3.439500e+04</td>\n",
       "      <td>9.020000e+02</td>\n",
       "      <td>3.000000e+00</td>\n",
       "      <td>NaN</td>\n",
       "    </tr>\n",
       "    <tr>\n",
       "      <th>50%</th>\n",
       "      <td>6.914100e+04</td>\n",
       "      <td>2.167000e+03</td>\n",
       "      <td>3.500000e+00</td>\n",
       "      <td>NaN</td>\n",
       "    </tr>\n",
       "    <tr>\n",
       "      <th>75%</th>\n",
       "      <td>1.036370e+05</td>\n",
       "      <td>4.770000e+03</td>\n",
       "      <td>4.000000e+00</td>\n",
       "      <td>NaN</td>\n",
       "    </tr>\n",
       "    <tr>\n",
       "      <th>max</th>\n",
       "      <td>1.384930e+05</td>\n",
       "      <td>1.312620e+05</td>\n",
       "      <td>5.000000e+00</td>\n",
       "      <td>NaN</td>\n",
       "    </tr>\n",
       "  </tbody>\n",
       "</table>\n",
       "</div>"
      ],
      "text/plain": [
       "              userId       movieId        rating            timestamp\n",
       "count   2.000026e+07  2.000026e+07  2.000026e+07             20000263\n",
       "unique           NaN           NaN           NaN             15351121\n",
       "top              NaN           NaN           NaN  1996-03-01 00:00:00\n",
       "freq             NaN           NaN           NaN                  643\n",
       "first            NaN           NaN           NaN  1995-01-09 11:46:44\n",
       "last             NaN           NaN           NaN  2015-03-31 06:40:02\n",
       "mean    6.904587e+04  9.041567e+03  3.525529e+00                  NaN\n",
       "std     4.003863e+04  1.978948e+04  1.051989e+00                  NaN\n",
       "min     1.000000e+00  1.000000e+00  5.000000e-01                  NaN\n",
       "25%     3.439500e+04  9.020000e+02  3.000000e+00                  NaN\n",
       "50%     6.914100e+04  2.167000e+03  3.500000e+00                  NaN\n",
       "75%     1.036370e+05  4.770000e+03  4.000000e+00                  NaN\n",
       "max     1.384930e+05  1.312620e+05  5.000000e+00                  NaN"
      ]
     },
     "execution_count": 7,
     "metadata": {},
     "output_type": "execute_result"
    }
   ],
   "source": [
    "df_rating.describe(include = 'all')"
   ]
  },
  {
   "cell_type": "code",
   "execution_count": 8,
   "metadata": {},
   "outputs": [
    {
     "data": {
      "text/html": [
       "<div>\n",
       "<style scoped>\n",
       "    .dataframe tbody tr th:only-of-type {\n",
       "        vertical-align: middle;\n",
       "    }\n",
       "\n",
       "    .dataframe tbody tr th {\n",
       "        vertical-align: top;\n",
       "    }\n",
       "\n",
       "    .dataframe thead th {\n",
       "        text-align: right;\n",
       "    }\n",
       "</style>\n",
       "<table border=\"1\" class=\"dataframe\">\n",
       "  <thead>\n",
       "    <tr style=\"text-align: right;\">\n",
       "      <th></th>\n",
       "      <th>userId</th>\n",
       "      <th>movieId</th>\n",
       "      <th>rating</th>\n",
       "    </tr>\n",
       "  </thead>\n",
       "  <tbody>\n",
       "    <tr>\n",
       "      <th>count</th>\n",
       "      <td>2.000026e+07</td>\n",
       "      <td>2.000026e+07</td>\n",
       "      <td>2.000026e+07</td>\n",
       "    </tr>\n",
       "    <tr>\n",
       "      <th>mean</th>\n",
       "      <td>6.904587e+04</td>\n",
       "      <td>9.041567e+03</td>\n",
       "      <td>3.525529e+00</td>\n",
       "    </tr>\n",
       "    <tr>\n",
       "      <th>std</th>\n",
       "      <td>4.003863e+04</td>\n",
       "      <td>1.978948e+04</td>\n",
       "      <td>1.051989e+00</td>\n",
       "    </tr>\n",
       "    <tr>\n",
       "      <th>min</th>\n",
       "      <td>1.000000e+00</td>\n",
       "      <td>1.000000e+00</td>\n",
       "      <td>5.000000e-01</td>\n",
       "    </tr>\n",
       "    <tr>\n",
       "      <th>25%</th>\n",
       "      <td>3.439500e+04</td>\n",
       "      <td>9.020000e+02</td>\n",
       "      <td>3.000000e+00</td>\n",
       "    </tr>\n",
       "    <tr>\n",
       "      <th>50%</th>\n",
       "      <td>6.914100e+04</td>\n",
       "      <td>2.167000e+03</td>\n",
       "      <td>3.500000e+00</td>\n",
       "    </tr>\n",
       "    <tr>\n",
       "      <th>75%</th>\n",
       "      <td>1.036370e+05</td>\n",
       "      <td>4.770000e+03</td>\n",
       "      <td>4.000000e+00</td>\n",
       "    </tr>\n",
       "    <tr>\n",
       "      <th>max</th>\n",
       "      <td>1.384930e+05</td>\n",
       "      <td>1.312620e+05</td>\n",
       "      <td>5.000000e+00</td>\n",
       "    </tr>\n",
       "  </tbody>\n",
       "</table>\n",
       "</div>"
      ],
      "text/plain": [
       "             userId       movieId        rating\n",
       "count  2.000026e+07  2.000026e+07  2.000026e+07\n",
       "mean   6.904587e+04  9.041567e+03  3.525529e+00\n",
       "std    4.003863e+04  1.978948e+04  1.051989e+00\n",
       "min    1.000000e+00  1.000000e+00  5.000000e-01\n",
       "25%    3.439500e+04  9.020000e+02  3.000000e+00\n",
       "50%    6.914100e+04  2.167000e+03  3.500000e+00\n",
       "75%    1.036370e+05  4.770000e+03  4.000000e+00\n",
       "max    1.384930e+05  1.312620e+05  5.000000e+00"
      ]
     },
     "execution_count": 8,
     "metadata": {},
     "output_type": "execute_result"
    }
   ],
   "source": [
    "df_rating['rating'] = pd.to_numeric(df_rating['rating'], errors='coerce')\n",
    "df_rating['userId'] = pd.to_numeric(df_rating['userId'], errors='coerce')\n",
    "df_rating['movieId'] = pd.to_numeric(df_rating['movieId'], errors='coerce')\n",
    "df_rating = df_rating.dropna(subset=['rating','userId','movieId'])\n",
    "df_rating['rating'] = df_rating['rating'].astype(float)\n",
    "df_rating['userId'] = df_rating['userId'].astype(int)\n",
    "df_rating['movieId'] = df_rating['movieId'].astype(int)\n",
    "del df_rating['timestamp']\n",
    "df_rating.describe(include = 'all')"
   ]
  },
  {
   "cell_type": "markdown",
   "metadata": {},
   "source": [
    "### Prepare dataset"
   ]
  },
  {
   "cell_type": "code",
   "execution_count": 9,
   "metadata": {},
   "outputs": [],
   "source": [
    "ratings = df_rating.as_matrix(['userId', 'movieId', 'rating'])"
   ]
  },
  {
   "cell_type": "code",
   "execution_count": 10,
   "metadata": {},
   "outputs": [
    {
     "data": {
      "text/plain": [
       "array([[  1. ,   2. ,   3.5],\n",
       "       [  1. ,  29. ,   3.5],\n",
       "       [  1. ,  32. ,   3.5],\n",
       "       [  1. ,  47. ,   3.5],\n",
       "       [  1. ,  50. ,   3.5],\n",
       "       [  1. , 112. ,   3.5],\n",
       "       [  1. , 151. ,   4. ],\n",
       "       [  1. , 223. ,   4. ],\n",
       "       [  1. , 253. ,   4. ],\n",
       "       [  1. , 260. ,   4. ]])"
      ]
     },
     "execution_count": 10,
     "metadata": {},
     "output_type": "execute_result"
    }
   ],
   "source": [
    "ratings[:10]"
   ]
  },
  {
   "cell_type": "code",
   "execution_count": 11,
   "metadata": {},
   "outputs": [],
   "source": [
    "U_ratings = df_rating.groupby(['userId'])['rating'].apply(np.array)"
   ]
  },
  {
   "cell_type": "code",
   "execution_count": 12,
   "metadata": {},
   "outputs": [],
   "source": [
    "U_movies= df_rating.groupby(['userId'])['movieId'].apply(np.array)"
   ]
  },
  {
   "cell_type": "code",
   "execution_count": 13,
   "metadata": {},
   "outputs": [],
   "source": [
    "U = pd.concat([U_ratings, U_movies], axis=1)"
   ]
  },
  {
   "cell_type": "code",
   "execution_count": 14,
   "metadata": {},
   "outputs": [],
   "source": [
    "del U_ratings\n",
    "del U_movies"
   ]
  },
  {
   "cell_type": "code",
   "execution_count": 47,
   "metadata": {},
   "outputs": [
    {
     "data": {
      "text/plain": [
       "array([3.5, 3.5, 3.5, 3.5, 3.5, 3.5, 4. , 4. , 4. , 4. , 4. , 4. , 4. ,\n",
       "       3.5, 3.5, 4. , 3.5, 3.5, 3. , 3.5, 3.5, 3.5, 4. , 4. , 3.5, 3.5,\n",
       "       4. , 4. , 3.5, 3.5, 4.5, 4.5, 4. , 3. , 3.5, 4. , 4. , 3.5, 4. ,\n",
       "       3.5, 4. , 3. , 3.5, 4. , 4. , 4. , 3.5, 3.5, 4. , 4. , 3.5, 3. ,\n",
       "       4. , 4. , 3.5, 3.5, 4. , 3. , 4. , 4. , 3. , 3.5, 3.5, 3.5, 3.5,\n",
       "       4. , 3.5, 3.5, 4. , 4. , 4. , 4. , 4. , 4. , 4. , 4. , 4. , 3.5,\n",
       "       3.5, 4. , 4. , 4. , 4. , 3.5, 3.5, 3.5, 3.5, 3.5, 3.5, 3. , 4. ,\n",
       "       3.5, 4. , 3.5, 4. , 3.5, 4. , 4. , 3.5, 3. , 3.5, 4. , 4. , 3.5,\n",
       "       3.5, 3.5, 4. , 4. , 4. , 4. , 3. , 4. , 3.5, 4. , 4. , 3.5, 4. ,\n",
       "       3. , 3.5, 4. , 3.5, 4. , 4. , 3.5, 4. , 3.5, 4. , 4. , 3. , 3.5,\n",
       "       3.5, 5. , 4. , 4. , 3. , 3.5, 4. , 4. , 3.5, 4. , 4. , 3.5, 5. ,\n",
       "       3.5, 4. , 3.5, 4. , 3.5, 4. , 4. , 3.5, 4. , 3.5, 3.5, 3. , 3.5,\n",
       "       3.5, 4. , 5. , 3.5, 3.5, 3.5, 4. , 4. , 3.5, 4. , 3. , 4. , 4. ,\n",
       "       3.5, 5. , 4.5, 3.5, 4. , 4. ])"
      ]
     },
     "execution_count": 47,
     "metadata": {},
     "output_type": "execute_result"
    }
   ],
   "source": [
    "U['rating'][1]"
   ]
  },
  {
   "cell_type": "code",
   "execution_count": 68,
   "metadata": {},
   "outputs": [
    {
     "name": "stdout",
     "output_type": "stream",
     "text": [
      "[3.5 3.5 3.5 3.5 3.5 3.5 4.  4.  4.  4.  4.  4.  4.  3.5 3.5 4.  3.5 3.5\n",
      " 3.  3.5 3.5 3.5 4.  4.  3.5 3.5 4.  4.  3.5 3.5 4.5 4.5 4.  3.  3.5 4.\n",
      " 4.  3.5 4.  3.5 4.  3.  3.5 4.  4.  4.  3.5 3.5 4.  4.  3.5 3.  4.  4.\n",
      " 3.5 3.5 4.  3.  4.  4.  3.  3.5 3.5 3.5 3.5 4.  3.5 3.5 4.  4.  4.  4.\n",
      " 4.  4.  4.  4.  4.  3.5 3.5 4.  4.  4.  4.  3.5 3.5 3.5 3.5 3.5 3.5 3.\n",
      " 4.  3.5 4.  3.5 4.  3.5 4.  4.  3.5 3.  3.5 4.  4.  3.5 3.5 3.5 4.  4.\n",
      " 4.  4.  3.  4.  3.5 4.  4.  3.5 4.  3.  3.5 4.  3.5 4.  4.  3.5 4.  3.5\n",
      " 4.  4.  3.  3.5 3.5 5.  4.  4.  3.  3.5 4.  4.  3.5 4.  4.  3.5 5.  3.5\n",
      " 4.  3.5 4.  3.5 4.  4.  3.5 4.  3.5 3.5 3.  3.5 3.5 4.  5.  3.5 3.5 3.5\n",
      " 4.  4.  3.5 4.  3.  4.  4.  3.5 5.  4.5 3.5 4.  4. ]\n",
      "[    2    29    32    47    50   112   151   223   253   260   293   296\n",
      "   318   337   367   541   589   593   653   919   924  1009  1036  1079\n",
      "  1080  1089  1090  1097  1136  1193  1196  1198  1200  1201  1208  1214\n",
      "  1215  1217  1219  1222  1240  1243  1246  1249  1258  1259  1261  1262\n",
      "  1266  1278  1291  1304  1321  1333  1348  1350  1358  1370  1374  1387\n",
      "  1525  1584  1750  1848  1920  1967  1994  1997  2021  2100  2118  2138\n",
      "  2140  2143  2173  2174  2193  2194  2253  2288  2291  2542  2628  2644\n",
      "  2648  2664  2683  2692  2716  2761  2762  2804  2872  2918  2944  2947\n",
      "  2959  2968  3000  3030  3037  3081  3153  3265  3438  3476  3479  3489\n",
      "  3499  3889  3932  3996  3997  4011  4027  4105  4128  4133  4226  4306\n",
      "  4446  4467  4571  4720  4754  4878  4896  4911  4915  4941  4980  4993\n",
      "  5026  5039  5040  5146  5171  5540  5679  5797  5816  5898  5952  5999\n",
      "  6093  6242  6333  6502  6539  6754  6755  6774  6807  6834  6888  7001\n",
      "  7045  7046  7153  7164  7247  7387  7389  7438  7449  7454  7482  7757\n",
      "  8368  8482  8507  8636  8690  8961 31696]\n",
      "[1525 4133 3030]\n"
     ]
    }
   ],
   "source": [
    "a1 = np.array(U.rating[1])\n",
    "a2 = np.array(U.movieId[1])\n",
    "print(a1)\n",
    "print(a2)\n",
    "print()\n",
    "a3 = take_topN(a1, a2, 3)\n",
    "print(a3)"
   ]
  },
  {
   "cell_type": "code",
   "execution_count": 97,
   "metadata": {},
   "outputs": [
    {
     "name": "stdout",
     "output_type": "stream",
     "text": [
      "[150 100  50]\n"
     ]
    }
   ],
   "source": [
    "print(take_topN( np.array([3.5, 4.5, 2.5, 6.7]), np.array([100, 50, 150, 2500]), 3))"
   ]
  },
  {
   "cell_type": "code",
   "execution_count": 93,
   "metadata": {},
   "outputs": [],
   "source": [
    "def take_topN(array1, array2, n=3):\n",
    "  indices = np.argsort(array1)#[::-1]\n",
    "  return array2[indices[0:n]]"
   ]
  },
  {
   "cell_type": "code",
   "execution_count": 98,
   "metadata": {},
   "outputs": [],
   "source": [
    "U['col2'] = U.apply(lambda row: list(take_topN(row['rating'],row['movieId'],3)),axis=1)"
   ]
  },
  {
   "cell_type": "code",
   "execution_count": null,
   "metadata": {},
   "outputs": [],
   "source": [
    "U['col2'] = U.apply(lambda row: list(take_topN(row['rating'],row['movieId'],3)),axis=1)"
   ]
  },
  {
   "cell_type": "code",
   "execution_count": 99,
   "metadata": {},
   "outputs": [
    {
     "data": {
      "text/html": [
       "<div>\n",
       "<style scoped>\n",
       "    .dataframe tbody tr th:only-of-type {\n",
       "        vertical-align: middle;\n",
       "    }\n",
       "\n",
       "    .dataframe tbody tr th {\n",
       "        vertical-align: top;\n",
       "    }\n",
       "\n",
       "    .dataframe thead th {\n",
       "        text-align: right;\n",
       "    }\n",
       "</style>\n",
       "<table border=\"1\" class=\"dataframe\">\n",
       "  <thead>\n",
       "    <tr style=\"text-align: right;\">\n",
       "      <th></th>\n",
       "      <th>rating</th>\n",
       "      <th>movieId</th>\n",
       "      <th>col2</th>\n",
       "    </tr>\n",
       "    <tr>\n",
       "      <th>userId</th>\n",
       "      <th></th>\n",
       "      <th></th>\n",
       "      <th></th>\n",
       "    </tr>\n",
       "  </thead>\n",
       "  <tbody>\n",
       "    <tr>\n",
       "      <th>1</th>\n",
       "      <td>[3.5, 3.5, 3.5, 3.5, 3.5, 3.5, 4.0, 4.0, 4.0, ...</td>\n",
       "      <td>[2, 29, 32, 47, 50, 112, 151, 223, 253, 260, 2...</td>\n",
       "      <td>1525</td>\n",
       "    </tr>\n",
       "    <tr>\n",
       "      <th>2</th>\n",
       "      <td>[4.0, 5.0, 5.0, 4.0, 3.0, 5.0, 5.0, 3.0, 5.0, ...</td>\n",
       "      <td>[3, 62, 70, 110, 242, 260, 266, 469, 480, 541,...</td>\n",
       "      <td>1971</td>\n",
       "    </tr>\n",
       "    <tr>\n",
       "      <th>3</th>\n",
       "      <td>[4.0, 3.0, 4.0, 5.0, 3.0, 2.0, 5.0, 3.0, 5.0, ...</td>\n",
       "      <td>[1, 24, 32, 50, 160, 173, 175, 196, 223, 260, ...</td>\n",
       "      <td>2676</td>\n",
       "    </tr>\n",
       "    <tr>\n",
       "      <th>4</th>\n",
       "      <td>[3.0, 4.0, 3.0, 1.0, 3.0, 3.0, 4.0, 4.0, 3.0, ...</td>\n",
       "      <td>[6, 10, 19, 32, 165, 329, 350, 356, 367, 368, ...</td>\n",
       "      <td>32</td>\n",
       "    </tr>\n",
       "    <tr>\n",
       "      <th>5</th>\n",
       "      <td>[3.0, 5.0, 3.0, 3.0, 5.0, 2.0, 4.0, 2.0, 5.0, ...</td>\n",
       "      <td>[2, 11, 17, 60, 62, 104, 110, 140, 141, 150, 2...</td>\n",
       "      <td>1073</td>\n",
       "    </tr>\n",
       "    <tr>\n",
       "      <th>6</th>\n",
       "      <td>[5.0, 3.0, 5.0, 5.0, 5.0, 5.0, 3.0, 4.0, 5.0, ...</td>\n",
       "      <td>[1, 3, 7, 17, 52, 62, 135, 140, 141, 260, 494,...</td>\n",
       "      <td>1073</td>\n",
       "    </tr>\n",
       "    <tr>\n",
       "      <th>7</th>\n",
       "      <td>[3.0, 3.0, 4.0, 2.0, 3.0, 2.0, 3.0, 2.0, 2.0, ...</td>\n",
       "      <td>[3, 7, 11, 15, 16, 17, 24, 105, 122, 151, 252,...</td>\n",
       "      <td>4848</td>\n",
       "    </tr>\n",
       "    <tr>\n",
       "      <th>8</th>\n",
       "      <td>[4.0, 5.0, 3.0, 4.0, 1.0, 4.0, 3.0, 5.0, 4.0, ...</td>\n",
       "      <td>[1, 3, 6, 10, 19, 21, 39, 47, 48, 110, 150, 15...</td>\n",
       "      <td>19</td>\n",
       "    </tr>\n",
       "    <tr>\n",
       "      <th>9</th>\n",
       "      <td>[4.0, 5.0, 3.0, 3.0, 4.0, 5.0, 3.0, 2.0, 3.0, ...</td>\n",
       "      <td>[356, 858, 1219, 1911, 1923, 1997, 2279, 2605,...</td>\n",
       "      <td>4502</td>\n",
       "    </tr>\n",
       "    <tr>\n",
       "      <th>10</th>\n",
       "      <td>[4.0, 4.0, 4.0, 4.0, 3.0, 5.0, 5.0, 4.0, 4.0, ...</td>\n",
       "      <td>[1, 11, 25, 260, 356, 527, 858, 912, 969, 1094...</td>\n",
       "      <td>3107</td>\n",
       "    </tr>\n",
       "    <tr>\n",
       "      <th>11</th>\n",
       "      <td>[4.5, 2.5, 3.5, 5.0, 4.5, 2.0, 4.0, 3.0, 5.0, ...</td>\n",
       "      <td>[1, 10, 19, 32, 39, 65, 110, 145, 150, 153, 15...</td>\n",
       "      <td>44225</td>\n",
       "    </tr>\n",
       "    <tr>\n",
       "      <th>12</th>\n",
       "      <td>[4.0, 3.0, 2.0, 3.0, 3.0, 3.0, 3.0, 4.0, 4.0, ...</td>\n",
       "      <td>[1, 3, 5, 6, 7, 17, 32, 34, 36, 95, 104, 110, ...</td>\n",
       "      <td>5</td>\n",
       "    </tr>\n",
       "    <tr>\n",
       "      <th>13</th>\n",
       "      <td>[4.0, 3.0, 3.0, 4.0, 3.0, 5.0, 1.0, 3.0, 5.0, ...</td>\n",
       "      <td>[1, 2, 10, 11, 19, 32, 34, 39, 47, 95, 110, 15...</td>\n",
       "      <td>34</td>\n",
       "    </tr>\n",
       "    <tr>\n",
       "      <th>14</th>\n",
       "      <td>[4.5, 3.5, 5.0, 3.0, 4.0, 5.0, 4.0, 4.0, 4.0, ...</td>\n",
       "      <td>[1, 7, 17, 34, 62, 150, 252, 260, 277, 314, 31...</td>\n",
       "      <td>2009</td>\n",
       "    </tr>\n",
       "    <tr>\n",
       "      <th>15</th>\n",
       "      <td>[2.0, 3.0, 2.0, 3.0, 3.0, 4.0, 3.0, 3.0, 3.0, ...</td>\n",
       "      <td>[10, 11, 14, 17, 21, 34, 36, 39, 50, 141, 150,...</td>\n",
       "      <td>10</td>\n",
       "    </tr>\n",
       "    <tr>\n",
       "      <th>16</th>\n",
       "      <td>[3.0, 3.0, 4.0, 4.0, 3.0, 4.0, 3.0, 5.0, 5.0, ...</td>\n",
       "      <td>[1, 6, 39, 122, 223, 356, 539, 550, 587, 915, ...</td>\n",
       "      <td>3536</td>\n",
       "    </tr>\n",
       "    <tr>\n",
       "      <th>17</th>\n",
       "      <td>[4.0, 4.0, 3.0, 5.0, 3.0, 3.0, 4.0, 4.0, 4.0, ...</td>\n",
       "      <td>[6, 110, 377, 457, 480, 648, 1233, 1270, 1580,...</td>\n",
       "      <td>2002</td>\n",
       "    </tr>\n",
       "    <tr>\n",
       "      <th>18</th>\n",
       "      <td>[4.0, 1.0, 4.0, 4.5, 4.0, 3.0, 1.0, 1.5, 4.0, ...</td>\n",
       "      <td>[186, 260, 296, 318, 356, 383, 426, 480, 527, ...</td>\n",
       "      <td>2403</td>\n",
       "    </tr>\n",
       "    <tr>\n",
       "      <th>19</th>\n",
       "      <td>[5.0, 4.0, 5.0, 5.0, 4.0, 4.0, 3.0, 2.0, 3.0, ...</td>\n",
       "      <td>[1, 3, 6, 7, 14, 17, 25, 32, 55, 61, 62, 67, 7...</td>\n",
       "      <td>32</td>\n",
       "    </tr>\n",
       "    <tr>\n",
       "      <th>20</th>\n",
       "      <td>[4.0, 2.5, 4.5, 3.5, 2.0, 2.0, 2.0, 4.0, 4.5, ...</td>\n",
       "      <td>[16, 19, 111, 235, 370, 442, 474, 1080, 1208, ...</td>\n",
       "      <td>370</td>\n",
       "    </tr>\n",
       "  </tbody>\n",
       "</table>\n",
       "</div>"
      ],
      "text/plain": [
       "                                                   rating  \\\n",
       "userId                                                      \n",
       "1       [3.5, 3.5, 3.5, 3.5, 3.5, 3.5, 4.0, 4.0, 4.0, ...   \n",
       "2       [4.0, 5.0, 5.0, 4.0, 3.0, 5.0, 5.0, 3.0, 5.0, ...   \n",
       "3       [4.0, 3.0, 4.0, 5.0, 3.0, 2.0, 5.0, 3.0, 5.0, ...   \n",
       "4       [3.0, 4.0, 3.0, 1.0, 3.0, 3.0, 4.0, 4.0, 3.0, ...   \n",
       "5       [3.0, 5.0, 3.0, 3.0, 5.0, 2.0, 4.0, 2.0, 5.0, ...   \n",
       "6       [5.0, 3.0, 5.0, 5.0, 5.0, 5.0, 3.0, 4.0, 5.0, ...   \n",
       "7       [3.0, 3.0, 4.0, 2.0, 3.0, 2.0, 3.0, 2.0, 2.0, ...   \n",
       "8       [4.0, 5.0, 3.0, 4.0, 1.0, 4.0, 3.0, 5.0, 4.0, ...   \n",
       "9       [4.0, 5.0, 3.0, 3.0, 4.0, 5.0, 3.0, 2.0, 3.0, ...   \n",
       "10      [4.0, 4.0, 4.0, 4.0, 3.0, 5.0, 5.0, 4.0, 4.0, ...   \n",
       "11      [4.5, 2.5, 3.5, 5.0, 4.5, 2.0, 4.0, 3.0, 5.0, ...   \n",
       "12      [4.0, 3.0, 2.0, 3.0, 3.0, 3.0, 3.0, 4.0, 4.0, ...   \n",
       "13      [4.0, 3.0, 3.0, 4.0, 3.0, 5.0, 1.0, 3.0, 5.0, ...   \n",
       "14      [4.5, 3.5, 5.0, 3.0, 4.0, 5.0, 4.0, 4.0, 4.0, ...   \n",
       "15      [2.0, 3.0, 2.0, 3.0, 3.0, 4.0, 3.0, 3.0, 3.0, ...   \n",
       "16      [3.0, 3.0, 4.0, 4.0, 3.0, 4.0, 3.0, 5.0, 5.0, ...   \n",
       "17      [4.0, 4.0, 3.0, 5.0, 3.0, 3.0, 4.0, 4.0, 4.0, ...   \n",
       "18      [4.0, 1.0, 4.0, 4.5, 4.0, 3.0, 1.0, 1.5, 4.0, ...   \n",
       "19      [5.0, 4.0, 5.0, 5.0, 4.0, 4.0, 3.0, 2.0, 3.0, ...   \n",
       "20      [4.0, 2.5, 4.5, 3.5, 2.0, 2.0, 2.0, 4.0, 4.5, ...   \n",
       "\n",
       "                                                  movieId   col2  \n",
       "userId                                                            \n",
       "1       [2, 29, 32, 47, 50, 112, 151, 223, 253, 260, 2...   1525  \n",
       "2       [3, 62, 70, 110, 242, 260, 266, 469, 480, 541,...   1971  \n",
       "3       [1, 24, 32, 50, 160, 173, 175, 196, 223, 260, ...   2676  \n",
       "4       [6, 10, 19, 32, 165, 329, 350, 356, 367, 368, ...     32  \n",
       "5       [2, 11, 17, 60, 62, 104, 110, 140, 141, 150, 2...   1073  \n",
       "6       [1, 3, 7, 17, 52, 62, 135, 140, 141, 260, 494,...   1073  \n",
       "7       [3, 7, 11, 15, 16, 17, 24, 105, 122, 151, 252,...   4848  \n",
       "8       [1, 3, 6, 10, 19, 21, 39, 47, 48, 110, 150, 15...     19  \n",
       "9       [356, 858, 1219, 1911, 1923, 1997, 2279, 2605,...   4502  \n",
       "10      [1, 11, 25, 260, 356, 527, 858, 912, 969, 1094...   3107  \n",
       "11      [1, 10, 19, 32, 39, 65, 110, 145, 150, 153, 15...  44225  \n",
       "12      [1, 3, 5, 6, 7, 17, 32, 34, 36, 95, 104, 110, ...      5  \n",
       "13      [1, 2, 10, 11, 19, 32, 34, 39, 47, 95, 110, 15...     34  \n",
       "14      [1, 7, 17, 34, 62, 150, 252, 260, 277, 314, 31...   2009  \n",
       "15      [10, 11, 14, 17, 21, 34, 36, 39, 50, 141, 150,...     10  \n",
       "16      [1, 6, 39, 122, 223, 356, 539, 550, 587, 915, ...   3536  \n",
       "17      [6, 110, 377, 457, 480, 648, 1233, 1270, 1580,...   2002  \n",
       "18      [186, 260, 296, 318, 356, 383, 426, 480, 527, ...   2403  \n",
       "19      [1, 3, 6, 7, 14, 17, 25, 32, 55, 61, 62, 67, 7...     32  \n",
       "20      [16, 19, 111, 235, 370, 442, 474, 1080, 1208, ...    370  "
      ]
     },
     "execution_count": 99,
     "metadata": {},
     "output_type": "execute_result"
    }
   ],
   "source": [
    "U.head(20)"
   ]
  },
  {
   "cell_type": "code",
   "execution_count": null,
   "metadata": {},
   "outputs": [],
   "source": [
    "#U['topN'] = U.apply(lambda row: take_topN(row['rating'], row['movieId']))"
   ]
  },
  {
   "cell_type": "code",
   "execution_count": null,
   "metadata": {},
   "outputs": [],
   "source": [
    "#U_total = pd.merge(U_ratings.to_frame(), U_movies.to_frame(), on='userId', how='inner')"
   ]
  },
  {
   "cell_type": "code",
   "execution_count": null,
   "metadata": {},
   "outputs": [],
   "source": [
    "del U_ra"
   ]
  },
  {
   "cell_type": "code",
   "execution_count": 8,
   "metadata": {},
   "outputs": [],
   "source": [
    "np_items = df_rating.movieId.as_matrix()\n",
    "np_users = df_rating.userId.as_matrix()\n",
    "unique_users = np.unique(np_users)\n",
    "unique_items = np.unique(np_items)\n",
    "n_users = unique_users.shape[0]\n",
    "n_items = unique_items.shape[0]\n",
    "max_item = unique_items[-1]\n",
    "max_user = unique_users[-1]\n",
    "\n",
    "if n_users != max_user or n_items != max_item:\n",
    "  z = np.zeros(max_user + 1, dtype=int)\n",
    "  z[unique_users] = np.arange(n_users)\n",
    "  u_r = z[np_users]\n",
    "  z = np.zeros(max_item + 1, dtype=int)\n",
    "  z[unique_items] = np.arange(n_items)\n",
    "  i_r = z[np_items]\n",
    "  np_ratings = df_rating.rating.as_matrix()\n",
    "  ratings = np.zeros((np_ratings.shape[0], 3), dtype=object)\n",
    "  ratings[:, 0] = u_r\n",
    "  ratings[:, 1] = i_r\n",
    "  ratings[:, 2] = np_ratings\n",
    "else:\n",
    "    ratings = df_rating.as_matrix(['user_id', 'item_id', 'rating'])\n",
    "    ratings[:, 0] -= 1\n",
    "    ratings[:, 1] -= 1"
   ]
  },
  {
   "cell_type": "code",
   "execution_count": 9,
   "metadata": {},
   "outputs": [
    {
     "name": "stdout",
     "output_type": "stream",
     "text": [
      "Number of items: 26744 and max item 131262 / Number of users: 138493\n"
     ]
    }
   ],
   "source": [
    "print('Number of items: {} and max item {} / Number of users: {}').format(n_items,max_item,n_users)"
   ]
  },
  {
   "cell_type": "code",
   "execution_count": 10,
   "metadata": {},
   "outputs": [],
   "source": [
    "test_set_size = int(len(ratings) * TEST_SET_RATIO)\n",
    "test_set_idx = np.random.choice(xrange(len(ratings)),\n",
    "                                size=test_set_size, replace=False)\n",
    "test_set_idx = sorted(test_set_idx)\n",
    "\n",
    "ts_ratings = ratings[test_set_idx]\n",
    "tr_ratings = np.delete(ratings, test_set_idx, axis=0)"
   ]
  },
  {
   "cell_type": "code",
   "execution_count": 11,
   "metadata": {},
   "outputs": [],
   "source": [
    "u_tr, i_tr, r_tr = zip(*tr_ratings)\n",
    "u_ts, i_ts, r_ts = zip(*ts_ratings)"
   ]
  },
  {
   "cell_type": "code",
   "execution_count": 12,
   "metadata": {},
   "outputs": [
    {
     "name": "stdout",
     "output_type": "stream",
     "text": [
      "18000237\n",
      "18000237\n",
      "18000237\n",
      "3703856792\n"
     ]
    }
   ],
   "source": [
    "print(len(r_tr))\n",
    "print(len(u_tr))\n",
    "print(len(i_tr))\n",
    "print(n_users * n_items)"
   ]
  },
  {
   "cell_type": "code",
   "execution_count": 13,
   "metadata": {},
   "outputs": [],
   "source": [
    "tr_sparse = coo_matrix((r_tr, (u_tr, i_tr)), shape=(n_users, n_items))\n",
    "test_sparse = coo_matrix((r_ts, (u_ts, i_ts)), shape=(n_users, n_items))"
   ]
  },
  {
   "cell_type": "code",
   "execution_count": 36,
   "metadata": {},
   "outputs": [
    {
     "ename": "TypeError",
     "evalue": "__init__() takes exactly 4 arguments (3 given)",
     "output_type": "error",
     "traceback": [
      "\u001b[0;31m\u001b[0m",
      "\u001b[0;31mTypeError\u001b[0mTraceback (most recent call last)",
      "\u001b[0;32m<ipython-input-36-f3e45d3a31e2>\u001b[0m in \u001b[0;36m<module>\u001b[0;34m()\u001b[0m\n\u001b[0;32m----> 1\u001b[0;31m \u001b[0muser_sparse_tensor\u001b[0m \u001b[0;34m=\u001b[0m \u001b[0mtf\u001b[0m\u001b[0;34m.\u001b[0m\u001b[0mSparseTensor\u001b[0m\u001b[0;34m(\u001b[0m\u001b[0mindices\u001b[0m\u001b[0;34m=\u001b[0m\u001b[0mtr_sparse\u001b[0m\u001b[0;34m.\u001b[0m\u001b[0mrow\u001b[0m\u001b[0;34m,\u001b[0m \u001b[0mdense_shape\u001b[0m\u001b[0;34m=\u001b[0m\u001b[0;34m(\u001b[0m\u001b[0mtr_sparse\u001b[0m\u001b[0;34m.\u001b[0m\u001b[0mshape\u001b[0m\u001b[0;34m[\u001b[0m\u001b[0;36m0\u001b[0m\u001b[0;34m]\u001b[0m\u001b[0;34m,\u001b[0m\u001b[0;36m1\u001b[0m\u001b[0;34m)\u001b[0m\u001b[0;34m)\u001b[0m\u001b[0;34m\u001b[0m\u001b[0m\n\u001b[0m",
      "\u001b[0;31mTypeError\u001b[0m: __init__() takes exactly 4 arguments (3 given)"
     ]
    }
   ],
   "source": [
    "user_sparse_tensor = tf.SparseTensor(indices=tr_sparse.row, dense_shape=(tr_sparse.shape[0],1))"
   ]
  },
  {
   "cell_type": "code",
   "execution_count": 14,
   "metadata": {},
   "outputs": [],
   "source": [
    "input_tensor = tf.SparseTensor(indices=zip(tr_sparse.row, tr_sparse.col),\n",
    "                                values=(tr_sparse.data).astype(np.float32),\n",
    "                                dense_shape=tr_sparse.shape)"
   ]
  },
  {
   "cell_type": "code",
   "execution_count": null,
   "metadata": {},
   "outputs": [],
   "source": [
    "input_tensor."
   ]
  },
  {
   "cell_type": "code",
   "execution_count": 19,
   "metadata": {},
   "outputs": [
    {
     "name": "stdout",
     "output_type": "stream",
     "text": [
      "(138493, 26744)\n"
     ]
    }
   ],
   "source": [
    "print(input_tensor.get_shape())"
   ]
  },
  {
   "cell_type": "code",
   "execution_count": 35,
   "metadata": {},
   "outputs": [
    {
     "name": "stdout",
     "output_type": "stream",
     "text": [
      "Tensor(\"SparseTensor/indices:0\", shape=(18000237, 2), dtype=int64)\n"
     ]
    }
   ],
   "source": [
    "limit = input_tensor.indices\n",
    "print(limit)"
   ]
  },
  {
   "cell_type": "code",
   "execution_count": 110,
   "metadata": {},
   "outputs": [],
   "source": [
    "def train_and_evaluate(args):\n",
    "    train_steps = int(0.5 + (1.0 * args['num_epochs'] * args['nusers']) / args['batch_size'])\n",
    "    steps_in_epoch = int(0.5 + args['nusers'] / args['batch_size'])\n",
    "    print('Will train for {} steps, evaluating once every {} steps'.format(train_steps, steps_in_epoch))\n",
    "    def experiment_fn(output_dir):\n",
    "        return tf.contrib.learn.Experiment(\n",
    "            tf.contrib.factorization.WALSMatrixFactorization(\n",
    "                         num_rows=args['nusers'], num_cols=args['nitems'],\n",
    "                         embedding_dimension=args['n_embeds'],\n",
    "                         model_dir=args['output_dir']),\n",
    "            train_input_fn=read_dataset(tf.estimator.ModeKeys.TRAIN, args),\n",
    "            eval_input_fn=read_dataset(tf.estimator.ModeKeys.EVAL, args),\n",
    "            train_steps=train_steps,\n",
    "            eval_steps=1,\n",
    "            min_eval_frequency=steps_in_epoch\n",
    "        )\n",
    "\n",
    "    from tensorflow.contrib.learn.python.learn import learn_runner\n",
    "    learn_runner.run(experiment_fn, args['output_dir'])\n",
    "    \n",
    "    batch_predict(args)"
   ]
  },
  {
   "cell_type": "code",
   "execution_count": null,
   "metadata": {},
   "outputs": [],
   "source": [
    "import shutil\n",
    "shutil.rmtree(OUTDIR, ignore_errors=True)\n",
    "train_and_evaluate({\n",
    "    'output_dir': OUTDIR,\n",
    "    #'input_path': 'gs://{}/wals/preproc_tft'.format(BUCKET),\n",
    "    'num_epochs': 0.05,\n",
    "    'nitems': 5668,\n",
    "    'nusers': 82802,\n",
    "\n",
    "    'batch_size': 512,\n",
    "    'n_embeds': 10,\n",
    "    'topk': 3\n",
    "  })"
   ]
  }
 ],
 "metadata": {
  "kernelspec": {
   "display_name": "Python 3",
   "language": "python",
   "name": "python3"
  }
 },
 "nbformat": 4,
 "nbformat_minor": 2
}
