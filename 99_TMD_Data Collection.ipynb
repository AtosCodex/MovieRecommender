{
 "cells": [
  {
   "cell_type": "code",
   "execution_count": 37,
   "metadata": {},
   "outputs": [],
   "source": [
    "import requests\n",
    "import pandas as pd\n",
    "import tmdbsimple as tmdb\n",
    "import pickle"
   ]
  },
  {
   "cell_type": "code",
   "execution_count": 38,
   "metadata": {},
   "outputs": [],
   "source": [
    "api_key='9d4724b28cde31159c7465392dbcf25c'\n",
    "access_token='eyJ0eXAiOiJKV1QiLCJhbGciOiJIUzI1NiJ9.eyJhdWQiOiI5ZDQ3MjRiMjhjZGUzMTE1OWM3NDY1Mzky\\\n",
    "ZGJjZjI1YyIsInN1YiI6IjViZWMwYjFjOTI1MTQxMDI2NzAwN2Y1ZSIsInNjb3BlcyI6WyJhcGlfcmVhZCJdLCJ2ZXJzaW9uIj\\\n",
    "oxfQ.lMnhij5psVXIf8XfN5VFkrcfU94oWl3KBMj2ggm-VBM'"
   ]
  },
  {
   "cell_type": "code",
   "execution_count": 41,
   "metadata": {},
   "outputs": [],
   "source": [
    "tmdb.API_KEY = api_key"
   ]
  },
  {
   "cell_type": "code",
   "execution_count": 22,
   "metadata": {},
   "outputs": [
    {
     "data": {
      "text/html": [
       "<div>\n",
       "<style scoped>\n",
       "    .dataframe tbody tr th:only-of-type {\n",
       "        vertical-align: middle;\n",
       "    }\n",
       "\n",
       "    .dataframe tbody tr th {\n",
       "        vertical-align: top;\n",
       "    }\n",
       "\n",
       "    .dataframe thead th {\n",
       "        text-align: right;\n",
       "    }\n",
       "</style>\n",
       "<table border=\"1\" class=\"dataframe\">\n",
       "  <thead>\n",
       "    <tr style=\"text-align: right;\">\n",
       "      <th></th>\n",
       "      <th>movieId</th>\n",
       "      <th>imdbId</th>\n",
       "      <th>tmdbId</th>\n",
       "    </tr>\n",
       "  </thead>\n",
       "  <tbody>\n",
       "    <tr>\n",
       "      <th>0</th>\n",
       "      <td>1</td>\n",
       "      <td>114709</td>\n",
       "      <td>862.0</td>\n",
       "    </tr>\n",
       "    <tr>\n",
       "      <th>1</th>\n",
       "      <td>2</td>\n",
       "      <td>113497</td>\n",
       "      <td>8844.0</td>\n",
       "    </tr>\n",
       "    <tr>\n",
       "      <th>2</th>\n",
       "      <td>3</td>\n",
       "      <td>113228</td>\n",
       "      <td>15602.0</td>\n",
       "    </tr>\n",
       "    <tr>\n",
       "      <th>3</th>\n",
       "      <td>4</td>\n",
       "      <td>114885</td>\n",
       "      <td>31357.0</td>\n",
       "    </tr>\n",
       "    <tr>\n",
       "      <th>4</th>\n",
       "      <td>5</td>\n",
       "      <td>113041</td>\n",
       "      <td>11862.0</td>\n",
       "    </tr>\n",
       "  </tbody>\n",
       "</table>\n",
       "</div>"
      ],
      "text/plain": [
       "   movieId  imdbId   tmdbId\n",
       "0        1  114709    862.0\n",
       "1        2  113497   8844.0\n",
       "2        3  113228  15602.0\n",
       "3        4  114885  31357.0\n",
       "4        5  113041  11862.0"
      ]
     },
     "execution_count": 22,
     "metadata": {},
     "output_type": "execute_result"
    }
   ],
   "source": [
    "df_links = pickle.load(open(\"./data/links.pkl\", 'rb'))\n",
    "df_links['tmdbId']\n",
    "df_links.head()"
   ]
  },
  {
   "cell_type": "markdown",
   "metadata": {},
   "source": [
    "# Function to create record from movie id\n",
    "\n",
    "Stats about movie\n",
    "\n",
    "Keywords\n",
    "\n",
    "Longest review"
   ]
  },
  {
   "cell_type": "code",
   "execution_count": 100,
   "metadata": {},
   "outputs": [],
   "source": [
    "movie = tmdb.Movies(603)"
   ]
  },
  {
   "cell_type": "markdown",
   "metadata": {},
   "source": [
    "## Stats"
   ]
  },
  {
   "cell_type": "code",
   "execution_count": 90,
   "metadata": {},
   "outputs": [
    {
     "data": {
      "text/plain": [
       "{'budget': 63000000,\n",
       " 'genres': [{'id': 28, 'name': 'Action'},\n",
       "  {'id': 878, 'name': 'Science Fiction'}],\n",
       " 'overview': 'Set in the 22nd century, The Matrix tells the story of a computer hacker who joins a group of underground insurgents fighting the vast and powerful computers who now rule the earth.',\n",
       " 'popularity': 30.278,\n",
       " 'poster_path': '/hEpWvX6Bp79eLxY1kX5ZZJcme5U.jpg',\n",
       " 'release_date': '1999-03-30',\n",
       " 'revenue': 463517383,\n",
       " 'title': 'The Matrix',\n",
       " 'vote_average': 8.0,\n",
       " 'vote_count': 12599}"
      ]
     },
     "execution_count": 90,
     "metadata": {},
     "output_type": "execute_result"
    }
   ],
   "source": [
    "response_keys_for_df = ['title', 'budget', 'revenue', 'genres', 'release_date', 'popularity', 'vote_average', 'vote_count', 'overview', 'poster_path']\n",
    "movie_dict = {x:movie.info()[x] for x in response_keys_for_df}\n",
    "movie_dict"
   ]
  },
  {
   "cell_type": "markdown",
   "metadata": {},
   "source": [
    "## Keywords"
   ]
  },
  {
   "cell_type": "code",
   "execution_count": 89,
   "metadata": {},
   "outputs": [
    {
     "name": "stdout",
     "output_type": "stream",
     "text": [
      "['saving the world', 'artificial intelligence', 'man vs machine', 'philosophy', 'prophecy', 'martial arts', 'self sacrifice', 'fight', 'insurgence', 'virtual reality', 'dystopia', 'truth', 'cyberpunk', 'dream world', 'messiah', 'gnosticism', 'trans director']\n"
     ]
    }
   ],
   "source": [
    "keywords = []\n",
    "for word in movie.keywords()['keywords']:\n",
    "  keywords.append(word['name'])\n",
    "print(keywords)"
   ]
  },
  {
   "cell_type": "markdown",
   "metadata": {},
   "source": [
    "## Longest Review"
   ]
  },
  {
   "cell_type": "code",
   "execution_count": 106,
   "metadata": {},
   "outputs": [
    {
     "data": {
      "text/plain": [
       "[{'author': 'GeekMasher',\n",
       "  'content': 'The Martix is a great example of a movie that will live for ever or a very log time. The story and concept are out of this world. Keanu Reeves plays his role with utter brilliance, the cast was very well put together and the graphics are still to this day amazing. All in all one of the best movies of all time.',\n",
       "  'id': '51429fb419c29552f00f2f7b',\n",
       "  'url': 'https://www.themoviedb.org/review/51429fb419c29552f00f2f7b'},\n",
       " {'author': 'NeoBrowser',\n",
       "  'content': 'Get this: what if all we know as reality was, in fact, virtual reality? Reality itself is a ravaged dystopia run by technocrat Artificial Intelligence where humankind vegetates in billions of gloop-filled tanks - mere battery packs for the machineworld - being fed this late \\'90s VR (known as The Matrix - you with us here?) through an ugly great cable stuck in the back of our heads. And what if there was a group of quasi-spiritual rebels infiltrating The Matrix with the sole purpose of crashing the ruddy great mainframe and rescuing humans from their unknown purgatory? And, hey, what if Keanu Reeves was their Messiah?\\r\\n\\r\\nWhat sounds like some web freak\\'s wet dream is, in fact, a dazzlingly nifty slice of sci-fi cool. The Wachowski Brothers (Andy and Larry - last seen dabbling in kinky lesbian noir with the excellent Bound) pulling off something like a million masterstrokes all at once. Taking the imprimatur of the video game, they meld the grungy noir of Blade Runner, the hyperkinetic energies of chopsocky, John Woo hardware and grandiose spiritual overtones into William Gibson\\'s cyberpunk ethos to produce a new aesthetic for the millennium powered to the thudding beat of techno. And it is just incredible fun. The key is the technique of \"flo-mo\", a process born from Japanese animation, whereby an object in motion is seemingly frozen while the camera miraculously spins around it as if time and gravity are on hold. It grants the action (including some killer kung fu which Reeves and crew spent months perfecting) liberty to take on surreal visual highs. Superhuman feats permissible, of course, in the context of VR as the rebels download Herculean \"talents\" to fuel their subterfuge. Meanwhile, the audience can only gawp longingly, with its jaws thunking to the cinema floor in unison, as the heroes wrapped in skintight leather, sleek shades and designer cheekbones, spin up walls, leap from high rises and slip through streams of bullets in silken slo-mo. Tron this ain\\'t.\\r\\n\\r\\nImmediately reigniting the moribund cyberpunk genre (the kids can\\'t get enough Stateside), this has thrust Reeves from his imploding career back to Speed highs (and laying to rest the hideous ghost of Johnny Mnemonic) and stolen much more of Star Wars\\' thunder than was thought humanly possible. For all its loony plot, The Matrix is fabulous.\\r\\n\\r\\nSure, the expert Fishburne is depended upon to expound the lion\\'s share of the script as seer-like rebel leader Morpheus. Reeves, stunning in his newcast slenderness, as Thomas \"Neo\" Anderson, the hacker turned hope for all mankind (care of some ill-defined mystical calling) is asked little more than perpetual befuddlement. Like Speed, though, this movie plays on his iconic looks rather than his oak-like emoting. There\\'s a major find, too, in the irresistible Carrie-Anne Moss, a majestically wrought combination of steely no-shit intelligence and rock-chick vivaciousness as fellow tripper Trinity. And Weaving, cast against type, neutralises his Aussie tones to a freaky deadpan, the head of the MiB-styled defence system set against the Goth invaders.\\r\\n\\r\\nAnd sure, three minutes of post-movie deliberation and all this state-of-the-art cyberdevilry is reduced to the purest gobbledygook. That, though, is not the point. The Matrix is about pure experience; it\\'s been many a moon since the Empire crew have spilled out of a cinema literally buzzing with the sensation of a movie, babbling frenetically with the sheer excitement of discovery.\\r\\n\\r\\nFrom head to tail, the deliciously inventive Wachowskis (watch them skyrocket) have delivered the syntax for a new kind of movie: technically mind-blowing, style merged perfectly with content and just so damn cool, the usher will have to drag you kicking and screaming back into reality. You can bet your bottom dollar George never saw this phantom menace coming.\\r\\n\\r\\n\\r\\nVerdict - The deliciously inventive Wachowskis have delivered the syntax for a new kind of movie: technically mind-blowing, style merged perfectly with content and just so damn cool.\\r\\n\\r\\n5/5\\r\\n\\r\\n- Ian Nathan, Empire Magazine',\n",
       "  'id': '51ea49fe760ee35ab1463677',\n",
       "  'url': 'https://www.themoviedb.org/review/51ea49fe760ee35ab1463677'},\n",
       " {'author': 'StbMDB',\n",
       "  'content': \"It was around 2001 that I first watched this film and recently giving it another go, ever since, doesn't change the fact for me that this movie is an timeless piece of filmaking. From the characters to the striking and thought-provoking story, it basically has everything to make an action film a 10/10 in a book.\",\n",
       "  'id': '59741276c3a3685dd800b2d8',\n",
       "  'url': 'https://www.themoviedb.org/review/59741276c3a3685dd800b2d8'}]"
      ]
     },
     "execution_count": 106,
     "metadata": {},
     "output_type": "execute_result"
    }
   ],
   "source": [
    "#for review in movie.reviews()['results']\n",
    "\n",
    "[expression(i) for review in movie.reviews()['results']]"
   ]
  },
  {
   "cell_type": "code",
   "execution_count": 98,
   "metadata": {},
   "outputs": [
    {
     "data": {
      "text/plain": [
       "dict_keys(['results', 'total_pages', 'id', 'total_results', 'page'])"
      ]
     },
     "execution_count": 98,
     "metadata": {},
     "output_type": "execute_result"
    }
   ],
   "source": [
    "revs"
   ]
  },
  {
   "cell_type": "code",
   "execution_count": null,
   "metadata": {},
   "outputs": [],
   "source": []
  }
 ],
 "metadata": {
  "kernelspec": {
   "display_name": "Python 3",
   "language": "python",
   "name": "python3"
  },
  "language_info": {
   "codemirror_mode": {
    "name": "ipython",
    "version": 3
   },
   "file_extension": ".py",
   "mimetype": "text/x-python",
   "name": "python",
   "nbconvert_exporter": "python",
   "pygments_lexer": "ipython3",
   "version": "3.5.5"
  }
 },
 "nbformat": 4,
 "nbformat_minor": 2
}
