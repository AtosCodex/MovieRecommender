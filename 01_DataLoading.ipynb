{
 "cells": [
  {
   "cell_type": "code",
   "execution_count": 1,
   "metadata": {},
   "outputs": [],
   "source": [
    "import pandas as pd"
   ]
  },
  {
   "cell_type": "markdown",
   "metadata": {},
   "source": [
    "## Fetch data from internet"
   ]
  },
  {
   "cell_type": "code",
   "execution_count": 2,
   "metadata": {},
   "outputs": [
    {
     "name": "stdout",
     "output_type": "stream",
     "text": [
      "wget: /usr/local/lib/libcrypto.so.1.0.0: no version information available (required by wget)\n",
      "wget: /usr/local/lib/libssl.so.1.0.0: no version information available (required by wget)\n",
      "wget: /usr/local/lib/libssl.so.1.0.0: no version information available (required by wget)\n",
      "--2018-11-12 11:17:25--  http://files.grouplens.org/datasets/movielens/ml-20m.zip\n",
      "Resolving files.grouplens.org (files.grouplens.org)... 128.101.34.235\n",
      "Connecting to files.grouplens.org (files.grouplens.org)|128.101.34.235|:80... connected.\n",
      "HTTP request sent, awaiting response... 200 OK\n",
      "Length: 198702078 (189M) [application/zip]\n",
      "Saving to: ‘./data/ml-20m.zip’\n",
      "\n",
      "./data/ml-20m.zip   100%[===================>] 189.50M  27.6MB/s    in 7.6s    \n",
      "\n",
      "2018-11-12 11:17:33 (25.0 MB/s) - ‘./data/ml-20m.zip’ saved [198702078/198702078]\n",
      "\n",
      "Archive:  ./data/ml-20m.zip\n",
      "   creating: ./data/ml-20m/\n",
      "  inflating: ./data/ml-20m/genome-scores.csv  \n",
      "  inflating: ./data/ml-20m/genome-tags.csv  \n",
      "  inflating: ./data/ml-20m/links.csv  \n",
      "  inflating: ./data/ml-20m/movies.csv  \n",
      "  inflating: ./data/ml-20m/ratings.csv  \n",
      "  inflating: ./data/ml-20m/README.txt  \n",
      "  inflating: ./data/ml-20m/tags.csv  \n"
     ]
    }
   ],
   "source": [
    "!rm -rf ./data\n",
    "!mkdir data\n",
    "!wget http://files.grouplens.org/datasets/movielens/ml-20m.zip -O ./data/ml-20m.zip\n",
    "!unzip ./data/ml-20m.zip -d ./data"
   ]
  },
  {
   "cell_type": "markdown",
   "metadata": {},
   "source": [
    "## Load data into Pandas dataframe"
   ]
  },
  {
   "cell_type": "code",
   "execution_count": 3,
   "metadata": {},
   "outputs": [],
   "source": [
    "df_movies = pd.read_csv('./data/ml-20m/movies.csv')\n",
    "df_rating = pd.read_csv('./data/ml-20m/ratings.csv')\n",
    "df_tags = pd.read_csv('./data/ml-20m/tags.csv')\n",
    "df_links = pd.read_csv('./data/ml-20m/links.csv')\n",
    "df_genome_scores = pd.read_csv('./data/ml-20m/genome-scores.csv')\n",
    "df_genome_tags = pd.read_csv('./data/ml-20m/genome-tags.csv')"
   ]
  },
  {
   "cell_type": "markdown",
   "metadata": {},
   "source": [
    "## Some preprocessing steps from here"
   ]
  },
  {
   "cell_type": "code",
   "execution_count": 10,
   "metadata": {},
   "outputs": [],
   "source": [
    "df_rating.timestamp = pd.to_datetime(df_rating.timestamp,unit='s')"
   ]
  },
  {
   "cell_type": "code",
   "execution_count": 11,
   "metadata": {},
   "outputs": [],
   "source": [
    "df_tags.timestamp = pd.to_datetime(df_tags.timestamp,unit='s')"
   ]
  },
  {
   "cell_type": "code",
   "execution_count": null,
   "metadata": {},
   "outputs": [],
   "source": []
  },
  {
   "cell_type": "markdown",
   "metadata": {},
   "source": [
    "## Save to pickle file"
   ]
  },
  {
   "cell_type": "code",
   "execution_count": 12,
   "metadata": {},
   "outputs": [],
   "source": [
    "df_movies.to_pickle(\"./data/movies.pkl\")"
   ]
  },
  {
   "cell_type": "code",
   "execution_count": 14,
   "metadata": {},
   "outputs": [],
   "source": [
    "df_rating.to_pickle(\"./data/rating.pkl\")"
   ]
  },
  {
   "cell_type": "code",
   "execution_count": 13,
   "metadata": {},
   "outputs": [],
   "source": [
    "df_tags.to_pickle(\"./data/tags.pkl\")"
   ]
  },
  {
   "cell_type": "code",
   "execution_count": 15,
   "metadata": {},
   "outputs": [],
   "source": [
    "df_links.to_pickle(\"./data/links.pkl\")"
   ]
  },
  {
   "cell_type": "code",
   "execution_count": 16,
   "metadata": {},
   "outputs": [],
   "source": [
    "df_genome_scores.to_pickle(\"./data/genome-scores.pkl\")"
   ]
  },
  {
   "cell_type": "code",
   "execution_count": 17,
   "metadata": {},
   "outputs": [],
   "source": [
    "df_genome_tags.to_pickle(\"./data/genome-tags.pkl\")"
   ]
  }
 ],
 "metadata": {
  "kernelspec": {
   "display_name": "Python 2",
   "language": "python",
   "name": "python2"
  },
  "language_info": {
   "codemirror_mode": {
    "name": "ipython",
    "version": 2
   },
   "file_extension": ".py",
   "mimetype": "text/x-python",
   "name": "python",
   "nbconvert_exporter": "python",
   "pygments_lexer": "ipython2",
   "version": "2.7.15"
  }
 },
 "nbformat": 4,
 "nbformat_minor": 2
}
